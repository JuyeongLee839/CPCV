{
 "cells": [
  {
   "cell_type": "code",
   "execution_count": 1,
   "metadata": {},
   "outputs": [],
   "source": [
    "from CPCV_util import TrainValidPathNum"
   ]
  },
  {
   "cell_type": "code",
   "execution_count": 2,
   "metadata": {},
   "outputs": [],
   "source": [
    "pathmap = TrainValidPathNum(10,2)"
   ]
  },
  {
   "cell_type": "code",
   "execution_count": 3,
   "metadata": {},
   "outputs": [
    {
     "data": {
      "text/plain": [
       "{(0, 0): 0,\n",
       " (0, 1): 0,\n",
       " (1, 1): 0,\n",
       " (2, 1): 0,\n",
       " (3, 1): 0,\n",
       " (4, 1): 0,\n",
       " (5, 1): 0,\n",
       " (6, 1): 0,\n",
       " (7, 1): 0,\n",
       " (8, 1): 0,\n",
       " (1, 0): 1,\n",
       " (9, 0): 1,\n",
       " (9, 1): 1,\n",
       " (10, 1): 1,\n",
       " (11, 1): 1,\n",
       " (12, 1): 1,\n",
       " (13, 1): 1,\n",
       " (14, 1): 1,\n",
       " (15, 1): 1,\n",
       " (16, 1): 1,\n",
       " (2, 0): 2,\n",
       " (10, 0): 2,\n",
       " (17, 0): 2,\n",
       " (17, 1): 2,\n",
       " (18, 1): 2,\n",
       " (19, 1): 2,\n",
       " (20, 1): 2,\n",
       " (21, 1): 2,\n",
       " (22, 1): 2,\n",
       " (23, 1): 2,\n",
       " (3, 0): 3,\n",
       " (11, 0): 3,\n",
       " (18, 0): 3,\n",
       " (24, 0): 3,\n",
       " (24, 1): 3,\n",
       " (25, 1): 3,\n",
       " (26, 1): 3,\n",
       " (27, 1): 3,\n",
       " (28, 1): 3,\n",
       " (29, 1): 3,\n",
       " (4, 0): 4,\n",
       " (12, 0): 4,\n",
       " (19, 0): 4,\n",
       " (25, 0): 4,\n",
       " (30, 0): 4,\n",
       " (30, 1): 4,\n",
       " (31, 1): 4,\n",
       " (32, 1): 4,\n",
       " (33, 1): 4,\n",
       " (34, 1): 4,\n",
       " (5, 0): 5,\n",
       " (13, 0): 5,\n",
       " (20, 0): 5,\n",
       " (26, 0): 5,\n",
       " (31, 0): 5,\n",
       " (35, 0): 5,\n",
       " (35, 1): 5,\n",
       " (36, 1): 5,\n",
       " (37, 1): 5,\n",
       " (38, 1): 5,\n",
       " (6, 0): 6,\n",
       " (14, 0): 6,\n",
       " (21, 0): 6,\n",
       " (27, 0): 6,\n",
       " (32, 0): 6,\n",
       " (36, 0): 6,\n",
       " (39, 0): 6,\n",
       " (39, 1): 6,\n",
       " (40, 1): 6,\n",
       " (41, 1): 6,\n",
       " (7, 0): 7,\n",
       " (15, 0): 7,\n",
       " (22, 0): 7,\n",
       " (28, 0): 7,\n",
       " (33, 0): 7,\n",
       " (37, 0): 7,\n",
       " (40, 0): 7,\n",
       " (42, 0): 7,\n",
       " (42, 1): 7,\n",
       " (43, 1): 7,\n",
       " (8, 0): 8,\n",
       " (16, 0): 8,\n",
       " (23, 0): 8,\n",
       " (29, 0): 8,\n",
       " (34, 0): 8,\n",
       " (38, 0): 8,\n",
       " (41, 0): 8,\n",
       " (43, 0): 8,\n",
       " (44, 0): 8,\n",
       " (44, 1): 8}"
      ]
     },
     "execution_count": 3,
     "metadata": {},
     "output_type": "execute_result"
    }
   ],
   "source": [
    "pathmap.train_valid_path()"
   ]
  },
  {
   "cell_type": "code",
   "execution_count": null,
   "metadata": {},
   "outputs": [],
   "source": []
  }
 ],
 "metadata": {
  "interpreter": {
   "hash": "54cc46c3bff81c4c30881bff7998a35b058164dd37a0edabd52766779f003967"
  },
  "kernelspec": {
   "display_name": "Python 3.8.8 ('base')",
   "language": "python",
   "name": "python3"
  },
  "language_info": {
   "codemirror_mode": {
    "name": "ipython",
    "version": 3
   },
   "file_extension": ".py",
   "mimetype": "text/x-python",
   "name": "python",
   "nbconvert_exporter": "python",
   "pygments_lexer": "ipython3",
   "version": "3.8.12"
  },
  "orig_nbformat": 4
 },
 "nbformat": 4,
 "nbformat_minor": 2
}
