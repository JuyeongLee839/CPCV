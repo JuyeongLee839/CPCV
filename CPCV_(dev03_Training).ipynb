{
 "cells": [
  {
   "cell_type": "code",
   "execution_count": 96,
   "metadata": {},
   "outputs": [],
   "source": [
    "import pandas as pd \n",
    "import numpy as np \n",
    "import datetime \n",
    "from matplotlib import pyplot as plt\n",
    "\n",
    "from CV import cross_validation as CV\n",
    "from CV import combinatorial as CB\n",
    "from CPCV_util import TrainValidPathNum\n"
   ]
  },
  {
   "cell_type": "markdown",
   "metadata": {},
   "source": [
    "# Order \n",
    "1. X, Y generation \n",
    "2. CPCV baseline \n",
    "   어차피 여기서 뒤에서 개수만큼 잘라주는 거면 데이터 포인트를 자르는 것과 다를바 없음\n",
    "3. Path return function\n",
    "   \n"
   ]
  },
  {
   "cell_type": "code",
   "execution_count": 97,
   "metadata": {},
   "outputs": [],
   "source": [
    "import pandas as pd\n",
    "import numpy as np "
   ]
  },
  {
   "cell_type": "code",
   "execution_count": 98,
   "metadata": {},
   "outputs": [],
   "source": [
    "df = pd.read_csv(\"./data/data_input_demo.csv\", index_col = [0])\n",
    "df = df.set_index(['date'])[['13ty_index', 'interty_index', 'lty_index', 'mbs_index',\\\n",
    "       '13cy_index', 'intercy_index', 'lcy_index', 'ty_index', 'cy_index','agg_index']]\n",
    "df.index = pd.to_datetime(df.index, format = '%Y-%m-%d')"
   ]
  },
  {
   "cell_type": "code",
   "execution_count": 99,
   "metadata": {},
   "outputs": [
    {
     "data": {
      "text/html": [
       "<div>\n",
       "<style scoped>\n",
       "    .dataframe tbody tr th:only-of-type {\n",
       "        vertical-align: middle;\n",
       "    }\n",
       "\n",
       "    .dataframe tbody tr th {\n",
       "        vertical-align: top;\n",
       "    }\n",
       "\n",
       "    .dataframe thead th {\n",
       "        text-align: right;\n",
       "    }\n",
       "</style>\n",
       "<table border=\"1\" class=\"dataframe\">\n",
       "  <thead>\n",
       "    <tr style=\"text-align: right;\">\n",
       "      <th></th>\n",
       "      <th>13ty_index</th>\n",
       "      <th>interty_index</th>\n",
       "      <th>lty_index</th>\n",
       "      <th>mbs_index</th>\n",
       "      <th>13cy_index</th>\n",
       "      <th>intercy_index</th>\n",
       "      <th>lcy_index</th>\n",
       "      <th>ty_index</th>\n",
       "      <th>cy_index</th>\n",
       "      <th>agg_index</th>\n",
       "    </tr>\n",
       "    <tr>\n",
       "      <th>date</th>\n",
       "      <th></th>\n",
       "      <th></th>\n",
       "      <th></th>\n",
       "      <th></th>\n",
       "      <th></th>\n",
       "      <th></th>\n",
       "      <th></th>\n",
       "      <th></th>\n",
       "      <th></th>\n",
       "      <th></th>\n",
       "    </tr>\n",
       "  </thead>\n",
       "  <tbody>\n",
       "    <tr>\n",
       "      <th>1997-05-19</th>\n",
       "      <td>133.46</td>\n",
       "      <td>784.22</td>\n",
       "      <td>840.64</td>\n",
       "      <td>751.37</td>\n",
       "      <td>668.10</td>\n",
       "      <td>893.58</td>\n",
       "      <td>912.47</td>\n",
       "      <td>824.23</td>\n",
       "      <td>861.00</td>\n",
       "      <td>715.66</td>\n",
       "    </tr>\n",
       "    <tr>\n",
       "      <th>1997-05-20</th>\n",
       "      <td>133.58</td>\n",
       "      <td>785.01</td>\n",
       "      <td>840.34</td>\n",
       "      <td>751.82</td>\n",
       "      <td>668.74</td>\n",
       "      <td>894.56</td>\n",
       "      <td>912.29</td>\n",
       "      <td>824.78</td>\n",
       "      <td>861.51</td>\n",
       "      <td>716.09</td>\n",
       "    </tr>\n",
       "    <tr>\n",
       "      <th>1997-05-21</th>\n",
       "      <td>133.59</td>\n",
       "      <td>784.63</td>\n",
       "      <td>836.47</td>\n",
       "      <td>751.97</td>\n",
       "      <td>668.77</td>\n",
       "      <td>893.58</td>\n",
       "      <td>908.76</td>\n",
       "      <td>823.54</td>\n",
       "      <td>859.71</td>\n",
       "      <td>715.31</td>\n",
       "    </tr>\n",
       "    <tr>\n",
       "      <th>1997-05-22</th>\n",
       "      <td>133.58</td>\n",
       "      <td>784.33</td>\n",
       "      <td>834.66</td>\n",
       "      <td>751.97</td>\n",
       "      <td>668.71</td>\n",
       "      <td>892.96</td>\n",
       "      <td>906.86</td>\n",
       "      <td>822.86</td>\n",
       "      <td>858.69</td>\n",
       "      <td>714.88</td>\n",
       "    </tr>\n",
       "    <tr>\n",
       "      <th>1997-05-23</th>\n",
       "      <td>133.58</td>\n",
       "      <td>784.70</td>\n",
       "      <td>835.59</td>\n",
       "      <td>752.27</td>\n",
       "      <td>668.71</td>\n",
       "      <td>893.58</td>\n",
       "      <td>907.77</td>\n",
       "      <td>823.37</td>\n",
       "      <td>859.37</td>\n",
       "      <td>715.31</td>\n",
       "    </tr>\n",
       "  </tbody>\n",
       "</table>\n",
       "</div>"
      ],
      "text/plain": [
       "            13ty_index  interty_index  lty_index  mbs_index  13cy_index  \\\n",
       "date                                                                      \n",
       "1997-05-19      133.46         784.22     840.64     751.37      668.10   \n",
       "1997-05-20      133.58         785.01     840.34     751.82      668.74   \n",
       "1997-05-21      133.59         784.63     836.47     751.97      668.77   \n",
       "1997-05-22      133.58         784.33     834.66     751.97      668.71   \n",
       "1997-05-23      133.58         784.70     835.59     752.27      668.71   \n",
       "\n",
       "            intercy_index  lcy_index  ty_index  cy_index  agg_index  \n",
       "date                                                                 \n",
       "1997-05-19         893.58     912.47    824.23    861.00     715.66  \n",
       "1997-05-20         894.56     912.29    824.78    861.51     716.09  \n",
       "1997-05-21         893.58     908.76    823.54    859.71     715.31  \n",
       "1997-05-22         892.96     906.86    822.86    858.69     714.88  \n",
       "1997-05-23         893.58     907.77    823.37    859.37     715.31  "
      ]
     },
     "execution_count": 99,
     "metadata": {},
     "output_type": "execute_result"
    }
   ],
   "source": [
    "df.head()"
   ]
  },
  {
   "cell_type": "markdown",
   "metadata": {},
   "source": [
    "## X, Y generation "
   ]
  },
  {
   "cell_type": "code",
   "execution_count": 100,
   "metadata": {},
   "outputs": [],
   "source": [
    "\n",
    "def generate_xy_seq(df: pd.DataFrame, x_seq = 66, y_seq = 22):\n",
    "    \"\"\"\n",
    "    Generate samples from\n",
    "    :param df:\n",
    "    :param x_seq:\n",
    "    :param y_seq:\n",
    "    :param scaler:\n",
    "    :return:\n",
    "    # x: (epoch_size, input_length, num_nodes, input_dim)\n",
    "    # y: (epoch_size, output_length, num_nodes, output_dim)\n",
    "    \"\"\"\n",
    "    num_samples, num_nodes = df.shape\n",
    "    dates_arr = np.array(df.index)\n",
    "    data = np.expand_dims(df.values, axis = -1) # df -> array [N, F, 1]\n",
    "\n",
    "    x_offsets = np.arange(-x_seq+1, 1)  \n",
    "    y_offsets = np.arange(1, y_seq+1)\n",
    "\n",
    "    # feature_list = [data]\n",
    "\n",
    "    x, y = [], []\n",
    "    x_date, y_date = [],[]\n",
    "\n",
    "    min_t = abs(min(x_offsets))\n",
    "    max_t = abs(num_samples - abs(max(y_offsets)))\n",
    "\n",
    "    for t in range(min_t, max_t):\n",
    "        # value seperation\n",
    "        x.append(data[t+x_offsets, ...])\n",
    "        y.append(data[t+y_offsets, ...])\n",
    "        # date seperation\n",
    "        x_date.append(dates_arr[t+x_offsets])\n",
    "        y_date.append(dates_arr[t+y_offsets])\n",
    "        \n",
    "    x = np.squeeze(np.stack(x, axis = 0))\n",
    "    y = np.squeeze(np.stack(y, axis = 0))\n",
    "\n",
    "    x_date = np.stack(x_date, axis = 0)\n",
    "    y_date = np.stack(y_date, axis = 0)\n",
    "\n",
    "    return x, y, x_date, y_date"
   ]
  },
  {
   "cell_type": "code",
   "execution_count": 101,
   "metadata": {},
   "outputs": [],
   "source": [
    "past_seq = 66\n",
    "future_seq = 22\n",
    "num_assets = df.shape[1]\n",
    "X, Y, X_date, Y_date = generate_xy_seq(df, x_seq = past_seq, y_seq = future_seq)"
   ]
  },
  {
   "cell_type": "code",
   "execution_count": 102,
   "metadata": {},
   "outputs": [
    {
     "data": {
      "text/plain": [
       "(6298, 66, 10)"
      ]
     },
     "execution_count": 102,
     "metadata": {},
     "output_type": "execute_result"
    }
   ],
   "source": [
    "X.shape"
   ]
  },
  {
   "cell_type": "code",
   "execution_count": 103,
   "metadata": {},
   "outputs": [
    {
     "data": {
      "text/plain": [
       "(6298, 22, 10)"
      ]
     },
     "execution_count": 103,
     "metadata": {},
     "output_type": "execute_result"
    }
   ],
   "source": [
    "Y.shape"
   ]
  },
  {
   "cell_type": "code",
   "execution_count": 104,
   "metadata": {},
   "outputs": [
    {
     "data": {
      "text/plain": [
       "(6298, 66, 10)"
      ]
     },
     "execution_count": 104,
     "metadata": {},
     "output_type": "execute_result"
    }
   ],
   "source": [
    "X.shape"
   ]
  },
  {
   "cell_type": "code",
   "execution_count": 105,
   "metadata": {},
   "outputs": [
    {
     "data": {
      "text/plain": [
       "array([['1997-05-19T00:00:00.000000000', '1997-05-20T00:00:00.000000000',\n",
       "        '1997-05-21T00:00:00.000000000', ...,\n",
       "        '1997-08-14T00:00:00.000000000', '1997-08-15T00:00:00.000000000',\n",
       "        '1997-08-18T00:00:00.000000000'],\n",
       "       ['1997-05-20T00:00:00.000000000', '1997-05-21T00:00:00.000000000',\n",
       "        '1997-05-22T00:00:00.000000000', ...,\n",
       "        '1997-08-15T00:00:00.000000000', '1997-08-18T00:00:00.000000000',\n",
       "        '1997-08-19T00:00:00.000000000'],\n",
       "       ['1997-05-21T00:00:00.000000000', '1997-05-22T00:00:00.000000000',\n",
       "        '1997-05-23T00:00:00.000000000', ...,\n",
       "        '1997-08-18T00:00:00.000000000', '1997-08-19T00:00:00.000000000',\n",
       "        '1997-08-20T00:00:00.000000000'],\n",
       "       ...,\n",
       "       ['2021-07-05T00:00:00.000000000', '2021-07-06T00:00:00.000000000',\n",
       "        '2021-07-07T00:00:00.000000000', ...,\n",
       "        '2021-09-30T00:00:00.000000000', '2021-10-01T00:00:00.000000000',\n",
       "        '2021-10-04T00:00:00.000000000'],\n",
       "       ['2021-07-06T00:00:00.000000000', '2021-07-07T00:00:00.000000000',\n",
       "        '2021-07-08T00:00:00.000000000', ...,\n",
       "        '2021-10-01T00:00:00.000000000', '2021-10-04T00:00:00.000000000',\n",
       "        '2021-10-05T00:00:00.000000000'],\n",
       "       ['2021-07-07T00:00:00.000000000', '2021-07-08T00:00:00.000000000',\n",
       "        '2021-07-09T00:00:00.000000000', ...,\n",
       "        '2021-10-04T00:00:00.000000000', '2021-10-05T00:00:00.000000000',\n",
       "        '2021-10-06T00:00:00.000000000']], dtype='datetime64[ns]')"
      ]
     },
     "execution_count": 105,
     "metadata": {},
     "output_type": "execute_result"
    }
   ],
   "source": [
    "X_date"
   ]
  },
  {
   "cell_type": "code",
   "execution_count": 106,
   "metadata": {},
   "outputs": [
    {
     "data": {
      "text/plain": [
       "array([['1997-08-19T00:00:00.000000000', '1997-08-20T00:00:00.000000000',\n",
       "        '1997-08-21T00:00:00.000000000', ...,\n",
       "        '1997-09-15T00:00:00.000000000', '1997-09-16T00:00:00.000000000',\n",
       "        '1997-09-17T00:00:00.000000000'],\n",
       "       ['1997-08-20T00:00:00.000000000', '1997-08-21T00:00:00.000000000',\n",
       "        '1997-08-22T00:00:00.000000000', ...,\n",
       "        '1997-09-16T00:00:00.000000000', '1997-09-17T00:00:00.000000000',\n",
       "        '1997-09-18T00:00:00.000000000'],\n",
       "       ['1997-08-21T00:00:00.000000000', '1997-08-22T00:00:00.000000000',\n",
       "        '1997-08-25T00:00:00.000000000', ...,\n",
       "        '1997-09-17T00:00:00.000000000', '1997-09-18T00:00:00.000000000',\n",
       "        '1997-09-19T00:00:00.000000000'],\n",
       "       ...,\n",
       "       ['2021-10-05T00:00:00.000000000', '2021-10-06T00:00:00.000000000',\n",
       "        '2021-10-07T00:00:00.000000000', ...,\n",
       "        '2021-11-01T00:00:00.000000000', '2021-11-02T00:00:00.000000000',\n",
       "        '2021-11-03T00:00:00.000000000'],\n",
       "       ['2021-10-06T00:00:00.000000000', '2021-10-07T00:00:00.000000000',\n",
       "        '2021-10-08T00:00:00.000000000', ...,\n",
       "        '2021-11-02T00:00:00.000000000', '2021-11-03T00:00:00.000000000',\n",
       "        '2021-11-04T00:00:00.000000000'],\n",
       "       ['2021-10-07T00:00:00.000000000', '2021-10-08T00:00:00.000000000',\n",
       "        '2021-10-11T00:00:00.000000000', ...,\n",
       "        '2021-11-03T00:00:00.000000000', '2021-11-04T00:00:00.000000000',\n",
       "        '2021-11-05T00:00:00.000000000']], dtype='datetime64[ns]')"
      ]
     },
     "execution_count": 106,
     "metadata": {},
     "output_type": "execute_result"
    }
   ],
   "source": [
    "Y_date"
   ]
  },
  {
   "cell_type": "code",
   "execution_count": 107,
   "metadata": {},
   "outputs": [],
   "source": [
    "sample_info_sets = pd.Series(index=df[:-(past_seq+future_seq-1)].index, data=df[(past_seq+future_seq-1):].index)"
   ]
  },
  {
   "cell_type": "code",
   "execution_count": 108,
   "metadata": {},
   "outputs": [
    {
     "data": {
      "text/plain": [
       "date\n",
       "1997-05-19   1997-09-17\n",
       "1997-05-20   1997-09-18\n",
       "1997-05-21   1997-09-19\n",
       "1997-05-22   1997-09-22\n",
       "1997-05-23   1997-09-23\n",
       "                ...    \n",
       "2021-07-01   2021-11-01\n",
       "2021-07-02   2021-11-02\n",
       "2021-07-05   2021-11-03\n",
       "2021-07-06   2021-11-04\n",
       "2021-07-07   2021-11-05\n",
       "Name: date, Length: 6298, dtype: datetime64[ns]"
      ]
     },
     "execution_count": 108,
     "metadata": {},
     "output_type": "execute_result"
    }
   ],
   "source": [
    "sample_info_sets"
   ]
  },
  {
   "cell_type": "code",
   "execution_count": 109,
   "metadata": {},
   "outputs": [],
   "source": [
    "\"\"\"\n",
    "Implements the Combinatorial Purged Cross-Validation class from Chapter 12\n",
    "\"\"\"\n",
    "import sys \n",
    "\n",
    "from itertools import combinations\n",
    "from typing import List\n",
    "\n",
    "import pandas as pd\n",
    "import numpy as np\n",
    "\n",
    "from scipy.special import comb\n",
    "from sklearn.model_selection import KFold\n",
    "from CV.cross_validation import ml_get_train_times\n",
    "\n",
    "def _get_number_of_backtest_paths(n_train_splits: int, n_test_splits: int) -> float:\n",
    "    \"\"\"\n",
    "    Number of combinatorial paths for CPCV(N,K)\n",
    "    :param n_train_splits: (int) number of train splits\n",
    "    :param n_test_splits: (int) number of test splits\n",
    "    :return: (int) number of backtest paths for CPCV(N,k)\n",
    "    \"\"\"\n",
    "    return int(comb(n_train_splits, n_train_splits - n_test_splits) * n_test_splits / n_train_splits)\n",
    "\n",
    "\n",
    "class CombinatorialPurgedKFold(KFold):\n",
    "    \"\"\"\n",
    "    Advances in Financial Machine Learning, Chapter 12.\n",
    "\n",
    "    Implements Combinatial Purged Cross Validation (CPCV)\n",
    "\n",
    "    The train is purged of observations overlapping test-label intervals\n",
    "    Test set is assumed contiguous (shuffle=False), w/o training samples in between\n",
    "\n",
    "    :param n_splits: (int) The number of splits. Default to 3\n",
    "    :param samples_info_sets: (pd.Series, date value) The information range on which each record is constructed from\n",
    "        *samples_info_sets.index*: Time when the information extraction started.\n",
    "        *samples_info_sets.value*: Time when the information extraction ended.\n",
    "    :param pct_embargo: (float) Percent that determines the embargo size.\n",
    "    \"\"\"\n",
    "\n",
    "    def __init__(self,\n",
    "                 n_splits: int = 3,\n",
    "                 n_test_splits: int = 2,\n",
    "                 samples_info_sets: pd.Series = None,\n",
    "                 pct_embargo: float = 0.,\n",
    "                 purge_behind: bool = False):\n",
    "\n",
    "        if not isinstance(samples_info_sets, pd.Series):\n",
    "            raise ValueError('The samples_info_sets param must be a pd.Series')\n",
    "        super(CombinatorialPurgedKFold, self).__init__(n_splits, shuffle=False, random_state=None)\n",
    "        self.samples_info_sets = samples_info_sets\n",
    "        self.pct_embargo = pct_embargo\n",
    "        self.n_test_splits = n_test_splits\n",
    "        self.num_backtest_paths = _get_number_of_backtest_paths(self.n_splits, self.n_test_splits) # self. 정의가 안 되어 있는데/./? \n",
    "        self.backtest_paths = []  # Array of backtest paths\n",
    "        self.valid_comb = list(combinations([x for x in range(self.n_splits)], self.n_test_splits))\n",
    "        self._set_path_indexs() # train 별 path index mapping \n",
    "        self.purge_behind = purge_behind\n",
    "        \n",
    "    def _set_path_indexs(self):\n",
    "        train_path_count = [0 for _ in range(self.n_splits)]\n",
    "        self.val_path_pair = {}\n",
    "        for val_group in self.valid_comb: \n",
    "            path_comb = []\n",
    "            for split_ind in val_group:\n",
    "                path_comb.append(train_path_count[split_ind])\n",
    "                train_path_count[split_ind] += 1\n",
    "            self.val_path_pair[val_group] = tuple(path_comb)\n",
    "        \n",
    "\n",
    "    def _generate_combinatorial_test_ranges(self, splits_indices: dict) -> List:\n",
    "        \"\"\"\n",
    "        Using start and end indices of test splits from KFolds and number of test_splits (self.n_test_splits),\n",
    "        generates combinatorial test ranges splits\n",
    "\n",
    "        :param splits_indices: (dict) Test fold integer index: [start test index, end test index]\n",
    "        :return: (list) Combinatorial test splits ([start index, end index])\n",
    "        \"\"\"\n",
    "\n",
    "        # Possible test splits for each fold\n",
    "        combinatorial_splits = list(combinations(list(splits_indices.keys()), self.n_test_splits))\n",
    "        combinatorial_test_ranges = []  # List of test indices formed from combinatorial splits\n",
    "        for combination in combinatorial_splits:\n",
    "            temp_test_indices = []  # Array of test indices for current split combination\n",
    "            for int_index in combination:\n",
    "                temp_test_indices.append(splits_indices[int_index])\n",
    "            combinatorial_test_ranges.append(temp_test_indices)\n",
    "        return combinatorial_test_ranges\n",
    "\n",
    "    def _fill_backtest_paths(self, train_indices: list, test_splits: list):\n",
    "        \"\"\"\n",
    "        Using start and end indices of test splits and purged/embargoed train indices from CPCV, find backtest path and\n",
    "        place in the path where these indices should be used.\n",
    "\n",
    "        :param test_splits: (list) of lists with first element corresponding to test start index and second - test end\n",
    "        \"\"\"\n",
    "        # Fill backtest paths using train/test splits from CPCV\n",
    "        for split in test_splits:\n",
    "            found = False  # Flag indicating that split was found and filled in one of backtest paths\n",
    "            for path in self.backtest_paths:\n",
    "                for path_el in path:\n",
    "                    if path_el['train'] is None and split == path_el['test'] and found is False:\n",
    "                        path_el['train'] = np.array(train_indices)\n",
    "                        path_el['test'] = list(range(split[0], split[-1]))\n",
    "                        found = True\n",
    "\n",
    "    # noinspection PyPep8Naming\n",
    "    def split(self,\n",
    "              X: pd.DataFrame,\n",
    "              y: pd.Series = None,\n",
    "              groups=None):\n",
    "        \"\"\"\n",
    "        The main method to call for the PurgedKFold class\n",
    "\n",
    "        :param X: (pd.DataFrame) Samples dataset that is to be split\n",
    "        :param y: (pd.Series) Sample labels series\n",
    "        :param groups: (array-like), with shape (n_samples,), optional\n",
    "            Group labels for the samples used while splitting the dataset into\n",
    "            train/test set.\n",
    "        :return: (tuple) [train list of sample indices, and test list of sample indices]\n",
    "        \"\"\"\n",
    "        if X.shape[0] != self.samples_info_sets.shape[0]:\n",
    "            raise ValueError(\"X and the 'samples_info_sets' series param must be the same length\")\n",
    "\n",
    "        test_ranges: [(int, int)] = [(ix[0], ix[-1] + 1) for ix in np.array_split(np.arange(X.shape[0]), self.n_splits)]\n",
    "            # test_ranges : (st, end ind) for each split in the fold (e.g, fold set)\n",
    "               \n",
    "        \n",
    "        splits_indices = {}\n",
    "        for index, [start_ix, end_ix] in enumerate(test_ranges):\n",
    "            splits_indices[index] = [start_ix, end_ix]\n",
    "\n",
    "        combinatorial_test_ranges = self._generate_combinatorial_test_ranges(splits_indices)\n",
    "        \n",
    "        valid_order_comb_map = {} # 0: (0,1), \n",
    "        for i in range(len(self.valid_comb)):\n",
    "            valid_order_comb_map[i] = self.valid_comb[i]\n",
    "        \n",
    "        spilt_ind_map = {}\n",
    "        for i in range(len(self.valid_comb)): \n",
    "            spilt_ind_map[i] = self.valid_comb[i] \n",
    "        \n",
    "        # Prepare backtest paths\n",
    "        for _ in range(self.num_backtest_paths):\n",
    "            path = []\n",
    "            for split_idx in splits_indices.values():\n",
    "                path.append({'train': None, 'test': split_idx})\n",
    "            self.backtest_paths.append(path)\n",
    "\n",
    "        embargo: int = int(X.shape[0] * self.pct_embargo)\n",
    "        self.embargo = embargo\n",
    "        \n",
    "        for comb_order, test_splits in enumerate(combinatorial_test_ranges):\n",
    "                # test_splits : [[0,10], [10, 21], [21, 31]]  test set 만 가지고 있음 \n",
    "            \n",
    "            if self.purge_behind:\n",
    "                cv_set = {}\n",
    "                val_comb_ind_set = valid_order_comb_map[comb_order]\n",
    "                valid_set = {}\n",
    "                train_set = {}\n",
    "                \n",
    "                for split_ind, _ in enumerate(test_ranges):\n",
    "                    if split_ind in val_comb_ind_set: # validation\n",
    "                        split = test_ranges[split_ind]\n",
    "                        for st_ind, end_ind in [split]:\n",
    "                            valid_ind = np.arange(st_ind,end_ind)\n",
    "                            valid_set[split_ind] = (valid_ind)\n",
    "                    else: # train\n",
    "                        split = test_ranges[split_ind]\n",
    "                        for st_ind, end_ind in [split]:\n",
    "                            train_ind = np.arange(st_ind, end_ind)\n",
    "                            train_set[split_ind] = (train_ind)\n",
    "                cv_set['val'] = valid_set\n",
    "                cv_set['train'] = train_set    \n",
    "                \n",
    "                # Purging & Embargo \n",
    "                train_indices, test_indices = self.purging(cv_set)\n",
    "            else:\n",
    "                # Embargo\n",
    "                test_times = pd.Series(index=[self.samples_info_sets[ix[0]] for ix in test_splits], data=[\n",
    "                    self.samples_info_sets[ix[1] - 1] if ix[1] - 1 + embargo >= X.shape[0] else self.samples_info_sets[\n",
    "                        ix[1] - 1 + embargo]\n",
    "                    for ix in test_splits])\n",
    "\n",
    "                test_indices = []\n",
    "                for [start_ix, end_ix] in test_splits:\n",
    "                    test_indices.append(list(range(start_ix, end_ix)))\n",
    "\n",
    "                # Purge\n",
    "                train_times = ml_get_train_times(self.samples_info_sets, test_times)\n",
    "\n",
    "                # Get indices\n",
    "                train_indices = []\n",
    "                for train_ix in train_times.index:\n",
    "                    train_indices.append(self.samples_info_sets.index.get_loc(train_ix))\n",
    "            \n",
    "            valid_group_indices = spilt_ind_map[comb_order]\n",
    "            path_ls = self.val_path_pair[valid_group_indices] # path_ls : [path num1, path num2,..path numN]\n",
    "\n",
    "            self._fill_backtest_paths(train_indices, test_splits)\n",
    "\n",
    "            yield path_ls, np.array(train_indices), [np.array(x) for x in test_indices]\n",
    "\n",
    "    def purging(self, cv_set):\n",
    "        \"\"\"_summary_\n",
    "\n",
    "        Args:\n",
    "            cv_set (double nested dictionary)\n",
    "                - keys : ['train', 'val']\n",
    "                - value : 2nd dict\n",
    "                    - keys: fold num [0, 1]\n",
    "                    - values (np) \n",
    "        Return: \n",
    "            purged train or validation data set\n",
    "        \"\"\"\n",
    "        purging_num = self.embargo\n",
    "        embargo_num = self.embargo\n",
    "\n",
    "        val_keys = list(cv_set['val'].keys())\n",
    "        train_keys = list(cv_set['train'].keys())\n",
    "        # print (\"val_keys \", val_keys)\n",
    " \n",
    "        for val_k in val_keys:\n",
    "            # print (val_k)\n",
    "            if val_k-1 in train_keys: # train | val -> val 앞 버리기 \n",
    "                # print (\" o | x \")\n",
    "                cv_set['val'][val_k] = cv_set['val'][val_k][purging_num: ]\n",
    "                if val_k+1 in train_keys: # val | train -> train 앞 버리기 \n",
    "                    # print (\" x | o \")\n",
    "                    cv_set['train'][val_k+1] = cv_set['train'][val_k+1][embargo_num: ]\n",
    "\n",
    "            elif val_k+1 in train_keys: # val | train -> train 앞 버리기 \n",
    "                # print (\" x | o \")\n",
    "                cv_set['train'][val_k+1] = cv_set['train'][val_k+1][embargo_num: ]\n",
    "                if val_k-1 in train_keys: # train | val -> val 앞 버리기 \n",
    "                    # print (\" o | x | \")\n",
    "                    cv_set['val'][val_k] = cv_set['val'][val_k][purging_num: ]\n",
    "        \n",
    "        train_indices = [x for y in list(cv_set['train'].values()) for x in y]\n",
    "        test_indices = cv_set['val'].values()\n",
    "\n",
    "        return train_indices, test_indices"
   ]
  },
  {
   "cell_type": "code",
   "execution_count": 110,
   "metadata": {},
   "outputs": [],
   "source": [
    "total_split_num = 6\n",
    "val_split_num = 2\n",
    "pct_embargo = 0.01\n",
    "\n",
    "folds = [i for i in range(total_split_num)]\n",
    "val_comb = list(combinations(folds, val_split_num))\n",
    "train_split_num = total_split_num - val_split_num\n",
    "path_fold_num  = train_split_num + 1 # 한 path 에 존재하는 fold 의 개수 / train_split_num + 1  = 5\n",
    "path_num = int(len(val_comb) * val_split_num / total_split_num) # 전체 path 의 개수 = path_fold_num \n",
    "\n",
    "cv_gen = CombinatorialPurgedKFold(n_splits=total_split_num,\n",
    "                         n_test_splits = val_split_num, \n",
    "                         samples_info_sets=sample_info_sets, \n",
    "                         pct_embargo=pct_embargo)\n",
    "\n",
    "cv_split = cv_gen.split(X,Y)"
   ]
  },
  {
   "cell_type": "code",
   "execution_count": 111,
   "metadata": {},
   "outputs": [
    {
     "data": {
      "text/html": [
       "<div>\n",
       "<style scoped>\n",
       "    .dataframe tbody tr th:only-of-type {\n",
       "        vertical-align: middle;\n",
       "    }\n",
       "\n",
       "    .dataframe tbody tr th {\n",
       "        vertical-align: top;\n",
       "    }\n",
       "\n",
       "    .dataframe thead th {\n",
       "        text-align: right;\n",
       "    }\n",
       "</style>\n",
       "<table border=\"1\" class=\"dataframe\">\n",
       "  <thead>\n",
       "    <tr style=\"text-align: right;\">\n",
       "      <th></th>\n",
       "      <th>13ty_index</th>\n",
       "      <th>interty_index</th>\n",
       "      <th>lty_index</th>\n",
       "      <th>mbs_index</th>\n",
       "      <th>13cy_index</th>\n",
       "      <th>intercy_index</th>\n",
       "      <th>lcy_index</th>\n",
       "      <th>ty_index</th>\n",
       "      <th>cy_index</th>\n",
       "      <th>agg_index</th>\n",
       "    </tr>\n",
       "    <tr>\n",
       "      <th>date</th>\n",
       "      <th></th>\n",
       "      <th></th>\n",
       "      <th></th>\n",
       "      <th></th>\n",
       "      <th></th>\n",
       "      <th></th>\n",
       "      <th></th>\n",
       "      <th></th>\n",
       "      <th></th>\n",
       "      <th></th>\n",
       "    </tr>\n",
       "  </thead>\n",
       "  <tbody>\n",
       "    <tr>\n",
       "      <th>1997-05-19</th>\n",
       "      <td>133.46</td>\n",
       "      <td>784.22</td>\n",
       "      <td>840.64</td>\n",
       "      <td>751.37</td>\n",
       "      <td>668.10</td>\n",
       "      <td>893.58</td>\n",
       "      <td>912.47</td>\n",
       "      <td>824.23</td>\n",
       "      <td>861.00</td>\n",
       "      <td>715.66</td>\n",
       "    </tr>\n",
       "    <tr>\n",
       "      <th>1997-05-20</th>\n",
       "      <td>133.58</td>\n",
       "      <td>785.01</td>\n",
       "      <td>840.34</td>\n",
       "      <td>751.82</td>\n",
       "      <td>668.74</td>\n",
       "      <td>894.56</td>\n",
       "      <td>912.29</td>\n",
       "      <td>824.78</td>\n",
       "      <td>861.51</td>\n",
       "      <td>716.09</td>\n",
       "    </tr>\n",
       "    <tr>\n",
       "      <th>1997-05-21</th>\n",
       "      <td>133.59</td>\n",
       "      <td>784.63</td>\n",
       "      <td>836.47</td>\n",
       "      <td>751.97</td>\n",
       "      <td>668.77</td>\n",
       "      <td>893.58</td>\n",
       "      <td>908.76</td>\n",
       "      <td>823.54</td>\n",
       "      <td>859.71</td>\n",
       "      <td>715.31</td>\n",
       "    </tr>\n",
       "    <tr>\n",
       "      <th>1997-05-22</th>\n",
       "      <td>133.58</td>\n",
       "      <td>784.33</td>\n",
       "      <td>834.66</td>\n",
       "      <td>751.97</td>\n",
       "      <td>668.71</td>\n",
       "      <td>892.96</td>\n",
       "      <td>906.86</td>\n",
       "      <td>822.86</td>\n",
       "      <td>858.69</td>\n",
       "      <td>714.88</td>\n",
       "    </tr>\n",
       "    <tr>\n",
       "      <th>1997-05-23</th>\n",
       "      <td>133.58</td>\n",
       "      <td>784.70</td>\n",
       "      <td>835.59</td>\n",
       "      <td>752.27</td>\n",
       "      <td>668.71</td>\n",
       "      <td>893.58</td>\n",
       "      <td>907.77</td>\n",
       "      <td>823.37</td>\n",
       "      <td>859.37</td>\n",
       "      <td>715.31</td>\n",
       "    </tr>\n",
       "    <tr>\n",
       "      <th>...</th>\n",
       "      <td>...</td>\n",
       "      <td>...</td>\n",
       "      <td>...</td>\n",
       "      <td>...</td>\n",
       "      <td>...</td>\n",
       "      <td>...</td>\n",
       "      <td>...</td>\n",
       "      <td>...</td>\n",
       "      <td>...</td>\n",
       "      <td>...</td>\n",
       "    </tr>\n",
       "    <tr>\n",
       "      <th>2021-11-01</th>\n",
       "      <td>277.95</td>\n",
       "      <td>2050.97</td>\n",
       "      <td>4522.48</td>\n",
       "      <td>2303.94</td>\n",
       "      <td>1728.81</td>\n",
       "      <td>3090.09</td>\n",
       "      <td>5252.00</td>\n",
       "      <td>2491.10</td>\n",
       "      <td>3441.88</td>\n",
       "      <td>2351.92</td>\n",
       "    </tr>\n",
       "    <tr>\n",
       "      <th>2021-11-02</th>\n",
       "      <td>278.22</td>\n",
       "      <td>2054.41</td>\n",
       "      <td>4540.20</td>\n",
       "      <td>2304.88</td>\n",
       "      <td>1730.46</td>\n",
       "      <td>3095.17</td>\n",
       "      <td>5270.93</td>\n",
       "      <td>2496.45</td>\n",
       "      <td>3450.09</td>\n",
       "      <td>2355.94</td>\n",
       "    </tr>\n",
       "    <tr>\n",
       "      <th>2021-11-03</th>\n",
       "      <td>278.18</td>\n",
       "      <td>2052.47</td>\n",
       "      <td>4498.21</td>\n",
       "      <td>2303.43</td>\n",
       "      <td>1730.23</td>\n",
       "      <td>3092.39</td>\n",
       "      <td>5245.17</td>\n",
       "      <td>2489.74</td>\n",
       "      <td>3441.78</td>\n",
       "      <td>2351.25</td>\n",
       "    </tr>\n",
       "    <tr>\n",
       "      <th>2021-11-04</th>\n",
       "      <td>278.42</td>\n",
       "      <td>2057.49</td>\n",
       "      <td>4542.00</td>\n",
       "      <td>2307.00</td>\n",
       "      <td>1731.71</td>\n",
       "      <td>3100.85</td>\n",
       "      <td>5286.45</td>\n",
       "      <td>2499.61</td>\n",
       "      <td>3457.87</td>\n",
       "      <td>2359.40</td>\n",
       "    </tr>\n",
       "    <tr>\n",
       "      <th>2021-11-05</th>\n",
       "      <td>278.50</td>\n",
       "      <td>2061.28</td>\n",
       "      <td>4603.89</td>\n",
       "      <td>2312.57</td>\n",
       "      <td>1732.42</td>\n",
       "      <td>3108.59</td>\n",
       "      <td>5346.42</td>\n",
       "      <td>2510.41</td>\n",
       "      <td>3478.10</td>\n",
       "      <td>2369.30</td>\n",
       "    </tr>\n",
       "  </tbody>\n",
       "</table>\n",
       "<p>6385 rows × 10 columns</p>\n",
       "</div>"
      ],
      "text/plain": [
       "            13ty_index  interty_index  lty_index  mbs_index  13cy_index  \\\n",
       "date                                                                      \n",
       "1997-05-19      133.46         784.22     840.64     751.37      668.10   \n",
       "1997-05-20      133.58         785.01     840.34     751.82      668.74   \n",
       "1997-05-21      133.59         784.63     836.47     751.97      668.77   \n",
       "1997-05-22      133.58         784.33     834.66     751.97      668.71   \n",
       "1997-05-23      133.58         784.70     835.59     752.27      668.71   \n",
       "...                ...            ...        ...        ...         ...   \n",
       "2021-11-01      277.95        2050.97    4522.48    2303.94     1728.81   \n",
       "2021-11-02      278.22        2054.41    4540.20    2304.88     1730.46   \n",
       "2021-11-03      278.18        2052.47    4498.21    2303.43     1730.23   \n",
       "2021-11-04      278.42        2057.49    4542.00    2307.00     1731.71   \n",
       "2021-11-05      278.50        2061.28    4603.89    2312.57     1732.42   \n",
       "\n",
       "            intercy_index  lcy_index  ty_index  cy_index  agg_index  \n",
       "date                                                                 \n",
       "1997-05-19         893.58     912.47    824.23    861.00     715.66  \n",
       "1997-05-20         894.56     912.29    824.78    861.51     716.09  \n",
       "1997-05-21         893.58     908.76    823.54    859.71     715.31  \n",
       "1997-05-22         892.96     906.86    822.86    858.69     714.88  \n",
       "1997-05-23         893.58     907.77    823.37    859.37     715.31  \n",
       "...                   ...        ...       ...       ...        ...  \n",
       "2021-11-01        3090.09    5252.00   2491.10   3441.88    2351.92  \n",
       "2021-11-02        3095.17    5270.93   2496.45   3450.09    2355.94  \n",
       "2021-11-03        3092.39    5245.17   2489.74   3441.78    2351.25  \n",
       "2021-11-04        3100.85    5286.45   2499.61   3457.87    2359.40  \n",
       "2021-11-05        3108.59    5346.42   2510.41   3478.10    2369.30  \n",
       "\n",
       "[6385 rows x 10 columns]"
      ]
     },
     "execution_count": 111,
     "metadata": {},
     "output_type": "execute_result"
    }
   ],
   "source": [
    "df"
   ]
  },
  {
   "cell_type": "markdown",
   "metadata": {},
   "source": [
    "# CPCV with Training Process"
   ]
  },
  {
   "cell_type": "code",
   "execution_count": 112,
   "metadata": {},
   "outputs": [],
   "source": [
    "from torch.utils.data import TensorDataset\n",
    "from torch.utils.data import DataLoader\n",
    "\n",
    "import torch \n",
    "from torch import nn \n"
   ]
  },
  {
   "cell_type": "markdown",
   "metadata": {},
   "source": [
    "# Base Model "
   ]
  },
  {
   "cell_type": "code",
   "execution_count": 113,
   "metadata": {},
   "outputs": [],
   "source": [
    "class LSTM_Model(nn.Module):\n",
    "    def __init__(self, num_assets, past_seq, future_seq, num_layers, device):\n",
    "        '''\n",
    "        '''\n",
    "        super(LSTM_Model, self).__init__()\n",
    "        self.device = device\n",
    "        self.num_layers = num_layers\n",
    "        \n",
    "        self.lstm_in_dim = num_assets\n",
    "        self.lstm_out_dim = num_assets \n",
    "        \n",
    "        self.fc_in_dim = past_seq\n",
    "        self.fc_out_dim = future_seq\n",
    "\n",
    "## LSTM 정의 \n",
    "        self.lstm = nn.LSTM(self.lstm_in_dim, self.lstm_out_dim, num_layers = self.num_layers, batch_first = True)\n",
    "        self.fc = nn.Conv2d(self.fc_in_dim, self.fc_out_dim, kernel_size= (1,1))        \n",
    "        \n",
    "    def forward(self, x):\n",
    "        '''\n",
    "        x: [batch size, past sequence]\n",
    "        '''\n",
    "        batch_size = x.size(0)\n",
    "## 초기 hidden state, cell state 정의해주기 : 0으로 준다\n",
    "        hidden_init = torch.zeros(self.num_layers, batch_size, self.lstm_out_dim).to(self.device)\n",
    "        cell_init = torch.zeros(self.num_layers, batch_size, self.lstm_out_dim).to(self.device)\n",
    "        \n",
    "        output, hidden = self.lstm(x, (hidden_init, cell_init))\n",
    "        prediction = output.unsqueeze(-1)\n",
    "        \n",
    "####### 예측길이 바꿔주고 싶을 때 실행        \n",
    "        prediction = self.fc(prediction)\n",
    "        prediction = prediction.squeeze()\n",
    "        \n",
    "        return prediction         \n",
    "        "
   ]
  },
  {
   "cell_type": "code",
   "execution_count": 114,
   "metadata": {},
   "outputs": [
    {
     "name": "stdout",
     "output_type": "stream",
     "text": [
      "Use gpu\n"
     ]
    }
   ],
   "source": [
    "if torch.cuda.is_available():\n",
    "    device = torch.device(\"cuda:0\")\n",
    "    print (\"Use gpu\")\n",
    "else:\n",
    "    device = torch.device(\"cpu\")\n",
    "    print (\"Use cpu\")"
   ]
  },
  {
   "cell_type": "code",
   "execution_count": 115,
   "metadata": {},
   "outputs": [
    {
     "name": "stdout",
     "output_type": "stream",
     "text": [
      "** Model Loading **\n"
     ]
    }
   ],
   "source": [
    "# Model related hyper-parameters \n",
    "num_assets = df.shape[-1]\n",
    "num_layers = 1 # 4 개의 RNN layer 을 쌓겠습니다. \n",
    "num_epochs = 100 # Epoch 횟수를 설정합니다. \n",
    "\n",
    "######### Model 을 정의하는 부분 ########\n",
    "print (\"** Model Loading **\")\n",
    "Model = LSTM_Model(num_assets, past_seq, future_seq, num_layers, device)\n",
    "\n",
    "Model.to(device)\n",
    "\n",
    "criterion = nn.L1Loss() # Loss function 을 정의합니다 : MAE\n",
    "optimizer = torch.optim.Adam(Model.parameters(), lr = 0.01) # optimizer 을 설정해 줍니다. "
   ]
  },
  {
   "cell_type": "code",
   "execution_count": 116,
   "metadata": {},
   "outputs": [],
   "source": [
    "# Training related hyper-parameters\n",
    "batch_num = 32\n",
    "epoch_num = 30"
   ]
  },
  {
   "cell_type": "code",
   "execution_count": 117,
   "metadata": {},
   "outputs": [],
   "source": [
    "total_split_num = 6\n",
    "val_split_num = 2\n",
    "pct_embargo = 0.01\n",
    "purge_behind = True\n",
    "\n",
    "\n",
    "folds = [i for i in range(total_split_num)]\n",
    "val_comb = list(combinations(folds, val_split_num))\n",
    "train_split_num = total_split_num - val_split_num\n",
    "path_fold_num  = train_split_num + 1 # 한 path 에 존재하는 fold 의 개수 / train_split_num + 1  = 5\n",
    "path_num = int(len(val_comb) * val_split_num / total_split_num) # 전체 path 의 개수 = path_fold_num \n",
    "\n",
    "cv_gen = CombinatorialPurgedKFold(n_splits=total_split_num,\n",
    "                         n_test_splits = val_split_num, \n",
    "                         samples_info_sets=sample_info_sets, \n",
    "                         pct_embargo=pct_embargo,\n",
    "                         purge_behind= purge_behind)\n",
    "\n",
    "cv_split = cv_gen.split(X,Y)"
   ]
  },
  {
   "cell_type": "code",
   "execution_count": 118,
   "metadata": {},
   "outputs": [],
   "source": [
    "import util"
   ]
  },
  {
   "cell_type": "code",
   "execution_count": 119,
   "metadata": {},
   "outputs": [],
   "source": [
    "# Dataloader \n",
    "import torch\n",
    "from torch.utils.data import Dataset\n",
    "from torch.utils.data import DataLoader, Dataset\n",
    "import numpy as np \n",
    "\n",
    "## Mostly adapted from original TFT Github, data_formatters\n",
    "class DataIterator(Dataset):\n",
    "    def __init__(self, data_iter):\n",
    "        '''\n",
    "        data_iter : data iterator that holds (x,y) \n",
    "        '''\n",
    "        self.inputs =  data_iter['inputs']\n",
    "        self.outputs = data_iter['outputs']       \n",
    "        try:\n",
    "            self.inputs_date = data_iter['inputs_date']\n",
    "            self.outputs_date = data_iter['outputs_date']\n",
    "        except:\n",
    "            pass\n",
    "    # Dataloader 에 들어갈 때, datetime 은 넣을수가 없다. -> float 으로 바꿔줘 \n",
    "    \n",
    "    def __getitem__(self, index):\n",
    "        \n",
    "        try:\n",
    "            s = {\n",
    "            'inputs': self.inputs[index],\n",
    "            'outputs': self.outputs[index],\n",
    "            'inputs_date': self.inputs_date[index],\n",
    "            'outputs_date': self.outputs_date[index]\n",
    "            }\n",
    "        except:\n",
    "            s = {\n",
    "            'inputs': self.inputs[index],\n",
    "            'outputs': self.outputs[index],\n",
    "            }\n",
    "            \n",
    "        return s\n",
    "    \n",
    "    def __len__(self):\n",
    "        return self.inputs.shape[0]\n",
    "        \n",
    "def CustomDataLoader(X, Y, X_date, Y_date, batch_size, device, shuffle = False):\n",
    "    '''\n",
    "    num_workers : number of multiprocessing for CPU\n",
    "    '''    \n",
    "    data_iter = {}\n",
    "    data_iter['inputs'] = torch.from_numpy(X).float().to(device)\n",
    "    data_iter['outputs'] = torch.from_numpy(Y).float().to(device)\n",
    "    data_iter['inputs_date'] = X_date\n",
    "    data_iter['outputs_date'] = Y_date\n",
    "    \n",
    "    data_iter_out = DataIterator(data_iter)\n",
    "    dataloader = DataLoader(data_iter_out, batch_size = batch_size, shuffle = shuffle, drop_last=True) \n",
    "    return dataloader\n",
    "\n"
   ]
  },
  {
   "cell_type": "code",
   "execution_count": 128,
   "metadata": {},
   "outputs": [],
   "source": [
    "data_iter = {}\n",
    "data_iter['inputs'] = (X)\n",
    "data_iter['outputs'] = Y\n",
    "data_iter['inputs_date'] = np.array(X_date, 'float')\n",
    "data_iter['outputs_date'] = np.array(Y_date, 'float')\n",
    "\n",
    "# date 를 DataLoader 에 집어 넣어줄 때, \n",
    "    # float 로 만들어주기 -> 문제: 나중에 다시 datetime 으로 변환 (2중작업)\n",
    "        # float 로 만들어주지 않으면 datetime 형식으로 들어가는데, 이는 DataLoader 에서 맞지 않는다\n",
    "        \n",
    "data_iter_out = DataIterator(data_iter)\n",
    "dataloader = DataLoader(data_iter_out, batch_size = 32, shuffle = True, drop_last=True) \n"
   ]
  },
  {
   "cell_type": "code",
   "execution_count": 130,
   "metadata": {},
   "outputs": [
    {
     "data": {
      "text/plain": [
       "{'inputs': tensor([[[ 278.9200, 2077.2100, 4626.6000,  ..., 2527.9800, 3443.2600,\n",
       "           2370.7500],\n",
       "          [ 278.9500, 2079.0300, 4644.2800,  ..., 2531.7300, 3448.3800,\n",
       "           2373.8800],\n",
       "          [ 278.9500, 2079.0300, 4644.2800,  ..., 2531.7300, 3448.3800,\n",
       "           2373.8800],\n",
       "          ...,\n",
       "          [ 278.9300, 2056.6900, 4260.0500,  ..., 2466.8200, 3364.7800,\n",
       "           2327.9300],\n",
       "          [ 278.9300, 2055.8300, 4247.7000,  ..., 2464.6000, 3363.8300,\n",
       "           2326.8200],\n",
       "          [ 278.9700, 2059.8900, 4312.9100,  ..., 2475.8700, 3382.2000,\n",
       "           2335.7800]],\n",
       " \n",
       "         [[ 263.6800, 1899.0400, 3639.8400,  ..., 2248.8700, 2937.9800,\n",
       "           2098.9100],\n",
       "          [ 263.8900, 1902.4100, 3666.0400,  ..., 2254.9500, 2947.6000,\n",
       "           2104.2700],\n",
       "          [ 263.8600, 1901.5800, 3661.6100,  ..., 2253.6700, 2946.0900,\n",
       "           2103.5100],\n",
       "          ...,\n",
       "          [ 267.4700, 1947.4600, 3932.9200,  ..., 2327.4400, 3064.7600,\n",
       "           2172.0100],\n",
       "          [ 267.5400, 1948.1900, 3939.4700,  ..., 2328.8500, 3068.5300,\n",
       "           2173.6000],\n",
       "          [ 267.4200, 1946.2800, 3915.1000,  ..., 2324.3800, 3065.4300,\n",
       "           2170.9600]],\n",
       " \n",
       "         [[ 233.1500, 1499.8900, 2078.2900,  ..., 1693.1000, 1573.0600,\n",
       "           1403.1100],\n",
       "          [ 232.6100, 1487.4100, 2043.2000,  ..., 1676.1100, 1546.2200,\n",
       "           1390.2500],\n",
       "          [ 232.2300, 1480.6400, 2018.4200,  ..., 1665.9600, 1531.9000,\n",
       "           1378.0800],\n",
       "          ...,\n",
       "          [ 236.8300, 1559.8300, 2350.3500,  ..., 1790.0700, 1623.7600,\n",
       "           1446.4700],\n",
       "          [ 237.1700, 1560.7100, 2305.2000,  ..., 1784.0100, 1622.0100,\n",
       "           1447.2700],\n",
       "          [ 237.0900, 1560.1500, 2298.0600,  ..., 1782.4100, 1630.7500,\n",
       "           1451.8500]],\n",
       " \n",
       "         ...,\n",
       " \n",
       "         [[ 188.2400, 1158.1900, 1399.4500,  ..., 1260.3000, 1253.1800,\n",
       "           1076.5100],\n",
       "          [ 187.9900, 1155.3300, 1391.8300,  ..., 1255.9300, 1250.0300,\n",
       "           1074.1300],\n",
       "          [ 188.0000, 1154.9500, 1388.0000,  ..., 1254.4900, 1250.5100,\n",
       "           1073.7200],\n",
       "          ...,\n",
       "          [ 190.6000, 1175.3900, 1438.1800,  ..., 1284.4600, 1329.7900,\n",
       "           1108.6400],\n",
       "          [ 190.6200, 1175.4200, 1439.6000,  ..., 1284.9000, 1328.7700,\n",
       "           1108.4800],\n",
       "          [ 190.6900, 1177.2800, 1447.1600,  ..., 1288.4700, 1332.2000,\n",
       "           1110.4700]],\n",
       " \n",
       "         [[ 184.3500, 1115.8200, 1312.8500,  ..., 1203.0000, 1243.1500,\n",
       "           1047.7800],\n",
       "          [ 184.4500, 1116.3800, 1312.0600,  ..., 1203.1600, 1244.2500,\n",
       "           1048.2000],\n",
       "          [ 184.9400, 1121.4300, 1324.7000,  ..., 1210.6800, 1247.2000,\n",
       "           1052.3500],\n",
       "          ...,\n",
       "          [ 188.4000, 1165.1400, 1454.3400,  ..., 1281.9400, 1291.1200,\n",
       "           1092.4200],\n",
       "          [ 188.4100, 1165.4300, 1450.5000,  ..., 1280.9700, 1289.5400,\n",
       "           1091.5900],\n",
       "          [ 188.5500, 1168.6500, 1463.2000,  ..., 1287.1900, 1291.3200,\n",
       "           1093.7900]],\n",
       " \n",
       "         [[ 151.8300,  898.9600, 1013.3300,  ...,  955.5100,  982.8800,\n",
       "            822.7100],\n",
       "          [ 151.8600,  899.3400, 1014.1200,  ...,  956.0200,  983.8300,\n",
       "            823.8200],\n",
       "          [ 152.0100,  901.5500, 1021.5700,  ...,  959.8400,  988.4300,\n",
       "            827.6900],\n",
       "          ...,\n",
       "          [ 153.7600,  911.8800, 1032.6500,  ...,  970.7000, 1007.3100,\n",
       "            841.0400],\n",
       "          [ 153.7600,  911.8800, 1032.6500,  ...,  970.7000, 1007.3100,\n",
       "            841.0400],\n",
       "          [ 153.8900,  913.6300, 1040.5600,  ...,  974.3600, 1011.2000,\n",
       "            844.0400]]], dtype=torch.float64),\n",
       " 'outputs': tensor([[[ 278.9100, 2057.8400, 4284.4300,  ..., 2470.6700, 3369.5200,\n",
       "           2330.7800],\n",
       "          [ 278.9600, 2057.9000, 4273.4800,  ..., 2469.5000, 3363.1700,\n",
       "           2328.8000],\n",
       "          [ 279.0200, 2060.3600, 4293.3400,  ..., 2474.1100, 3368.0400,\n",
       "           2332.1900],\n",
       "          ...,\n",
       "          [ 279.0800, 2059.1600, 4192.2700,  ..., 2461.5500, 3355.9400,\n",
       "           2322.6000],\n",
       "          [ 279.1000, 2060.2200, 4226.9000,  ..., 2466.4800, 3368.4200,\n",
       "           2327.4100],\n",
       "          [ 279.1000, 2059.6800, 4217.3700,  ..., 2464.8800, 3367.0300,\n",
       "           2326.1600]],\n",
       " \n",
       "         [[ 267.4500, 1947.1900, 3935.4800,  ..., 2327.4400, 3072.1400,\n",
       "           2174.0900],\n",
       "          [ 267.3100, 1945.1200, 3917.7700,  ..., 2323.5300, 3069.2400,\n",
       "           2171.4900],\n",
       "          [ 267.2600, 1944.5600, 3920.6400,  ..., 2323.2900, 3070.0600,\n",
       "           2171.3400],\n",
       "          ...,\n",
       "          [ 269.3700, 1978.5300, 4333.0600,  ..., 2400.6700, 3158.0200,\n",
       "           2224.2300],\n",
       "          [ 269.1300, 1976.0700, 4325.6000,  ..., 2397.4700, 3159.5900,\n",
       "           2222.9400],\n",
       "          [ 268.9800, 1973.9700, 4289.1500,  ..., 2391.5100, 3153.5800,\n",
       "           2219.0200]],\n",
       " \n",
       "         [[ 237.1200, 1561.4900, 2300.1800,  ..., 1783.9600, 1641.8700,\n",
       "           1455.7000],\n",
       "          [ 237.0600, 1564.2200, 2307.3200,  ..., 1787.5600, 1646.3500,\n",
       "           1457.4400],\n",
       "          [ 237.2300, 1567.0500, 2308.3900,  ..., 1790.3200, 1648.7000,\n",
       "           1459.4300],\n",
       "          ...,\n",
       "          [ 236.6700, 1546.9300, 2188.6000,  ..., 1753.6100, 1635.6400,\n",
       "           1442.0500],\n",
       "          [ 236.5100, 1543.4000, 2180.4800,  ..., 1749.1400, 1628.9000,\n",
       "           1438.8300],\n",
       "          [ 236.5900, 1544.9300, 2187.3300,  ..., 1751.5700, 1630.9000,\n",
       "           1439.7100]],\n",
       " \n",
       "         ...,\n",
       " \n",
       "         [[ 190.6900, 1177.2800, 1447.1600,  ..., 1288.4700, 1332.2000,\n",
       "           1110.4700],\n",
       "          [ 190.8400, 1179.0300, 1451.5000,  ..., 1291.0300, 1333.5000,\n",
       "           1111.8300],\n",
       "          [ 190.9600, 1181.2700, 1459.6500,  ..., 1295.0500, 1335.9600,\n",
       "           1113.8600],\n",
       "          ...,\n",
       "          [ 191.2700, 1183.6800, 1463.7500,  ..., 1298.0200, 1342.5100,\n",
       "           1117.2300],\n",
       "          [ 191.2700, 1183.6800, 1463.7500,  ..., 1298.0200, 1342.5100,\n",
       "           1117.2300],\n",
       "          [ 191.2600, 1183.8200, 1467.2400,  ..., 1299.1400, 1343.3300,\n",
       "           1117.7900]],\n",
       " \n",
       "         [[ 188.6000, 1169.5800, 1468.6500,  ..., 1289.5400, 1289.6600,\n",
       "           1093.4500],\n",
       "          [ 188.3700, 1165.9000, 1451.8800,  ..., 1281.7300, 1284.9300,\n",
       "           1090.0100],\n",
       "          [ 188.4700, 1166.0300, 1450.7700,  ..., 1281.4800, 1285.8800,\n",
       "           1090.2000],\n",
       "          ...,\n",
       "          [ 187.9900, 1155.3300, 1391.8300,  ..., 1255.9300, 1250.0300,\n",
       "           1074.1300],\n",
       "          [ 188.0000, 1154.9500, 1388.0000,  ..., 1254.4900, 1250.5100,\n",
       "           1073.7200],\n",
       "          [ 188.0900, 1155.7700, 1387.0900,  ..., 1254.8100, 1251.5000,\n",
       "           1074.1700]],\n",
       " \n",
       "         [[ 153.9400,  913.7300, 1041.3000,  ...,  974.6600, 1013.5600,\n",
       "            844.4000],\n",
       "          [ 153.8600,  913.0500, 1038.9800,  ...,  973.4700, 1012.2200,\n",
       "            843.5300],\n",
       "          [ 153.7500,  911.4700, 1031.8000,  ...,  970.1500, 1008.3300,\n",
       "            841.2500],\n",
       "          ...,\n",
       "          [ 154.2500,  914.7000, 1034.0700,  ...,  973.1300, 1012.9700,\n",
       "            844.4400],\n",
       "          [ 154.2300,  914.4100, 1031.4700,  ...,  972.1300, 1012.0700,\n",
       "            843.5300],\n",
       "          [ 153.9900,  911.4500, 1019.0900,  ...,  966.2700, 1005.7000,\n",
       "            838.9500]]], dtype=torch.float64),\n",
       " 'inputs_date': tensor([[1.6106e+18, 1.6107e+18, 1.6109e+18,  ..., 1.6183e+18, 1.6184e+18,\n",
       "          1.6184e+18],\n",
       "         [1.5560e+18, 1.5561e+18, 1.5562e+18,  ..., 1.5635e+18, 1.5638e+18,\n",
       "          1.5638e+18],\n",
       "         [1.2233e+18, 1.2234e+18, 1.2235e+18,  ..., 1.2309e+18, 1.2311e+18,\n",
       "          1.2312e+18],\n",
       "         ...,\n",
       "         [1.0349e+18, 1.0352e+18, 1.0352e+18,  ..., 1.0426e+18, 1.0427e+18,\n",
       "          1.0428e+18],\n",
       "         [1.0249e+18, 1.0250e+18, 1.0250e+18,  ..., 1.0324e+18, 1.0325e+18,\n",
       "          1.0327e+18],\n",
       "         [9.3450e+17, 9.3476e+17, 9.3485e+17,  ..., 9.4219e+17, 9.4228e+17,\n",
       "          9.4236e+17]], dtype=torch.float64),\n",
       " 'outputs_date': tensor([[1.6185e+18, 1.6188e+18, 1.6189e+18, 1.6190e+18, 1.6190e+18, 1.6191e+18,\n",
       "          1.6194e+18, 1.6195e+18, 1.6196e+18, 1.6197e+18, 1.6197e+18, 1.6200e+18,\n",
       "          1.6201e+18, 1.6202e+18, 1.6203e+18, 1.6203e+18, 1.6206e+18, 1.6207e+18,\n",
       "          1.6208e+18, 1.6209e+18, 1.6210e+18, 1.6212e+18],\n",
       "         [1.5639e+18, 1.5640e+18, 1.5641e+18, 1.5644e+18, 1.5644e+18, 1.5645e+18,\n",
       "          1.5646e+18, 1.5647e+18, 1.5650e+18, 1.5650e+18, 1.5651e+18, 1.5652e+18,\n",
       "          1.5653e+18, 1.5656e+18, 1.5657e+18, 1.5657e+18, 1.5658e+18, 1.5659e+18,\n",
       "          1.5662e+18, 1.5663e+18, 1.5663e+18, 1.5664e+18],\n",
       "         [1.2313e+18, 1.2314e+18, 1.2315e+18, 1.2317e+18, 1.2318e+18, 1.2319e+18,\n",
       "          1.2320e+18, 1.2321e+18, 1.2323e+18, 1.2324e+18, 1.2325e+18, 1.2326e+18,\n",
       "          1.2327e+18, 1.2329e+18, 1.2330e+18, 1.2331e+18, 1.2332e+18, 1.2333e+18,\n",
       "          1.2335e+18, 1.2336e+18, 1.2337e+18, 1.2338e+18],\n",
       "         [9.3614e+17, 9.3623e+17, 9.3632e+17, 9.3658e+17, 9.3666e+17, 9.3675e+17,\n",
       "          9.3684e+17, 9.3692e+17, 9.3718e+17, 9.3727e+17, 9.3735e+17, 9.3744e+17,\n",
       "          9.3753e+17, 9.3779e+17, 9.3787e+17, 9.3796e+17, 9.3804e+17, 9.3813e+17,\n",
       "          9.3839e+17, 9.3848e+17, 9.3856e+17, 9.3865e+17],\n",
       "         [1.5142e+18, 1.5143e+18, 1.5144e+18, 1.5145e+18, 1.5148e+18, 1.5149e+18,\n",
       "          1.5149e+18, 1.5150e+18, 1.5151e+18, 1.5154e+18, 1.5155e+18, 1.5155e+18,\n",
       "          1.5156e+18, 1.5157e+18, 1.5160e+18, 1.5161e+18, 1.5161e+18, 1.5162e+18,\n",
       "          1.5163e+18, 1.5166e+18, 1.5167e+18, 1.5168e+18],\n",
       "         [8.7454e+17, 8.7463e+17, 8.7489e+17, 8.7497e+17, 8.7506e+17, 8.7515e+17,\n",
       "          8.7523e+17, 8.7549e+17, 8.7558e+17, 8.7566e+17, 8.7575e+17, 8.7584e+17,\n",
       "          8.7610e+17, 8.7618e+17, 8.7627e+17, 8.7636e+17, 8.7644e+17, 8.7670e+17,\n",
       "          8.7679e+17, 8.7687e+17, 8.7696e+17, 8.7705e+17],\n",
       "         [1.3529e+18, 1.3530e+18, 1.3533e+18, 1.3534e+18, 1.3535e+18, 1.3535e+18,\n",
       "          1.3536e+18, 1.3539e+18, 1.3540e+18, 1.3541e+18, 1.3541e+18, 1.3542e+18,\n",
       "          1.3545e+18, 1.3546e+18, 1.3547e+18, 1.3548e+18, 1.3548e+18, 1.3551e+18,\n",
       "          1.3552e+18, 1.3553e+18, 1.3554e+18, 1.3554e+18],\n",
       "         [1.2596e+18, 1.2597e+18, 1.2598e+18, 1.2599e+18, 1.2601e+18, 1.2602e+18,\n",
       "          1.2603e+18, 1.2604e+18, 1.2605e+18, 1.2607e+18, 1.2608e+18, 1.2609e+18,\n",
       "          1.2610e+18, 1.2611e+18, 1.2614e+18, 1.2614e+18, 1.2615e+18, 1.2616e+18,\n",
       "          1.2617e+18, 1.2620e+18, 1.2620e+18, 1.2621e+18],\n",
       "         [1.4925e+18, 1.4926e+18, 1.4926e+18, 1.4927e+18, 1.4930e+18, 1.4931e+18,\n",
       "          1.4932e+18, 1.4933e+18, 1.4933e+18, 1.4936e+18, 1.4937e+18, 1.4938e+18,\n",
       "          1.4939e+18, 1.4939e+18, 1.4942e+18, 1.4943e+18, 1.4944e+18, 1.4945e+18,\n",
       "          1.4945e+18, 1.4948e+18, 1.4949e+18, 1.4950e+18],\n",
       "         [1.2674e+18, 1.2675e+18, 1.2676e+18, 1.2677e+18, 1.2677e+18, 1.2680e+18,\n",
       "          1.2681e+18, 1.2682e+18, 1.2683e+18, 1.2684e+18, 1.2686e+18, 1.2687e+18,\n",
       "          1.2688e+18, 1.2689e+18, 1.2690e+18, 1.2692e+18, 1.2693e+18, 1.2694e+18,\n",
       "          1.2695e+18, 1.2696e+18, 1.2698e+18, 1.2699e+18],\n",
       "         [9.3917e+17, 9.3925e+17, 9.3934e+17, 9.3960e+17, 9.3969e+17, 9.3977e+17,\n",
       "          9.3986e+17, 9.3995e+17, 9.4020e+17, 9.4029e+17, 9.4038e+17, 9.4046e+17,\n",
       "          9.4055e+17, 9.4081e+17, 9.4090e+17, 9.4098e+17, 9.4107e+17, 9.4116e+17,\n",
       "          9.4141e+17, 9.4150e+17, 9.4159e+17, 9.4167e+17],\n",
       "         [1.2379e+18, 1.2380e+18, 1.2381e+18, 1.2384e+18, 1.2385e+18, 1.2385e+18,\n",
       "          1.2386e+18, 1.2387e+18, 1.2390e+18, 1.2391e+18, 1.2391e+18, 1.2392e+18,\n",
       "          1.2393e+18, 1.2396e+18, 1.2397e+18, 1.2398e+18, 1.2398e+18, 1.2399e+18,\n",
       "          1.2402e+18, 1.2403e+18, 1.2404e+18, 1.2404e+18],\n",
       "         [1.5028e+18, 1.5029e+18, 1.5030e+18, 1.5033e+18, 1.5034e+18, 1.5034e+18,\n",
       "          1.5035e+18, 1.5036e+18, 1.5039e+18, 1.5040e+18, 1.5041e+18, 1.5041e+18,\n",
       "          1.5042e+18, 1.5045e+18, 1.5046e+18, 1.5047e+18, 1.5047e+18, 1.5048e+18,\n",
       "          1.5051e+18, 1.5052e+18, 1.5053e+18, 1.5053e+18],\n",
       "         [8.9942e+17, 8.9968e+17, 8.9977e+17, 8.9986e+17, 8.9994e+17, 9.0003e+17,\n",
       "          9.0029e+17, 9.0037e+17, 9.0046e+17, 9.0055e+17, 9.0063e+17, 9.0089e+17,\n",
       "          9.0098e+17, 9.0107e+17, 9.0115e+17, 9.0124e+17, 9.0150e+17, 9.0158e+17,\n",
       "          9.0167e+17, 9.0176e+17, 9.0184e+17, 9.0210e+17],\n",
       "         [1.2196e+18, 1.2197e+18, 1.2198e+18, 1.2199e+18, 1.2200e+18, 1.2202e+18,\n",
       "          1.2203e+18, 1.2204e+18, 1.2205e+18, 1.2206e+18, 1.2208e+18, 1.2209e+18,\n",
       "          1.2210e+18, 1.2211e+18, 1.2212e+18, 1.2214e+18, 1.2215e+18, 1.2216e+18,\n",
       "          1.2217e+18, 1.2218e+18, 1.2220e+18, 1.2221e+18],\n",
       "         [1.1023e+18, 1.1024e+18, 1.1025e+18, 1.1026e+18, 1.1026e+18, 1.1029e+18,\n",
       "          1.1030e+18, 1.1031e+18, 1.1032e+18, 1.1032e+18, 1.1035e+18, 1.1036e+18,\n",
       "          1.1037e+18, 1.1038e+18, 1.1038e+18, 1.1041e+18, 1.1042e+18, 1.1043e+18,\n",
       "          1.1044e+18, 1.1045e+18, 1.1047e+18, 1.1048e+18],\n",
       "         [1.4453e+18, 1.4454e+18, 1.4455e+18, 1.4456e+18, 1.4458e+18, 1.4459e+18,\n",
       "          1.4460e+18, 1.4461e+18, 1.4462e+18, 1.4464e+18, 1.4465e+18, 1.4466e+18,\n",
       "          1.4467e+18, 1.4468e+18, 1.4470e+18, 1.4471e+18, 1.4472e+18, 1.4473e+18,\n",
       "          1.4474e+18, 1.4476e+18, 1.4477e+18, 1.4478e+18],\n",
       "         [1.2918e+18, 1.2919e+18, 1.2919e+18, 1.2922e+18, 1.2923e+18, 1.2924e+18,\n",
       "          1.2925e+18, 1.2925e+18, 1.2928e+18, 1.2929e+18, 1.2930e+18, 1.2931e+18,\n",
       "          1.2931e+18, 1.2934e+18, 1.2935e+18, 1.2936e+18, 1.2937e+18, 1.2938e+18,\n",
       "          1.2940e+18, 1.2941e+18, 1.2942e+18, 1.2943e+18],\n",
       "         [1.1848e+18, 1.1849e+18, 1.1851e+18, 1.1852e+18, 1.1853e+18, 1.1854e+18,\n",
       "          1.1855e+18, 1.1858e+18, 1.1858e+18, 1.1859e+18, 1.1860e+18, 1.1861e+18,\n",
       "          1.1864e+18, 1.1864e+18, 1.1865e+18, 1.1866e+18, 1.1867e+18, 1.1870e+18,\n",
       "          1.1870e+18, 1.1871e+18, 1.1872e+18, 1.1873e+18],\n",
       "         [1.0805e+18, 1.0806e+18, 1.0807e+18, 1.0808e+18, 1.0809e+18, 1.0811e+18,\n",
       "          1.0812e+18, 1.0813e+18, 1.0814e+18, 1.0815e+18, 1.0817e+18, 1.0818e+18,\n",
       "          1.0819e+18, 1.0820e+18, 1.0821e+18, 1.0823e+18, 1.0824e+18, 1.0825e+18,\n",
       "          1.0826e+18, 1.0827e+18, 1.0829e+18, 1.0830e+18],\n",
       "         [1.4295e+18, 1.4296e+18, 1.4297e+18, 1.4297e+18, 1.4298e+18, 1.4301e+18,\n",
       "          1.4302e+18, 1.4303e+18, 1.4304e+18, 1.4304e+18, 1.4307e+18, 1.4308e+18,\n",
       "          1.4309e+18, 1.4310e+18, 1.4310e+18, 1.4313e+18, 1.4314e+18, 1.4315e+18,\n",
       "          1.4316e+18, 1.4316e+18, 1.4319e+18, 1.4320e+18],\n",
       "         [1.6153e+18, 1.6154e+18, 1.6155e+18, 1.6158e+18, 1.6159e+18, 1.6159e+18,\n",
       "          1.6160e+18, 1.6161e+18, 1.6164e+18, 1.6165e+18, 1.6165e+18, 1.6166e+18,\n",
       "          1.6167e+18, 1.6170e+18, 1.6171e+18, 1.6171e+18, 1.6172e+18, 1.6173e+18,\n",
       "          1.6176e+18, 1.6177e+18, 1.6178e+18, 1.6178e+18],\n",
       "         [1.2779e+18, 1.2779e+18, 1.2780e+18, 1.2783e+18, 1.2784e+18, 1.2785e+18,\n",
       "          1.2785e+18, 1.2786e+18, 1.2789e+18, 1.2790e+18, 1.2791e+18, 1.2792e+18,\n",
       "          1.2792e+18, 1.2795e+18, 1.2796e+18, 1.2797e+18, 1.2798e+18, 1.2798e+18,\n",
       "          1.2801e+18, 1.2802e+18, 1.2803e+18, 1.2804e+18],\n",
       "         [9.2353e+17, 9.2362e+17, 9.2388e+17, 9.2396e+17, 9.2405e+17, 9.2413e+17,\n",
       "          9.2422e+17, 9.2448e+17, 9.2457e+17, 9.2465e+17, 9.2474e+17, 9.2483e+17,\n",
       "          9.2508e+17, 9.2517e+17, 9.2526e+17, 9.2534e+17, 9.2543e+17, 9.2569e+17,\n",
       "          9.2578e+17, 9.2586e+17, 9.2595e+17, 9.2604e+17],\n",
       "         [1.3146e+18, 1.3147e+18, 1.3147e+18, 1.3148e+18, 1.3149e+18, 1.3152e+18,\n",
       "          1.3153e+18, 1.3154e+18, 1.3154e+18, 1.3155e+18, 1.3158e+18, 1.3159e+18,\n",
       "          1.3160e+18, 1.3160e+18, 1.3161e+18, 1.3164e+18, 1.3165e+18, 1.3166e+18,\n",
       "          1.3166e+18, 1.3167e+18, 1.3170e+18, 1.3171e+18],\n",
       "         [1.1422e+18, 1.1423e+18, 1.1424e+18, 1.1425e+18, 1.1426e+18, 1.1428e+18,\n",
       "          1.1429e+18, 1.1430e+18, 1.1431e+18, 1.1432e+18, 1.1434e+18, 1.1435e+18,\n",
       "          1.1436e+18, 1.1437e+18, 1.1438e+18, 1.1440e+18, 1.1441e+18, 1.1442e+18,\n",
       "          1.1443e+18, 1.1444e+18, 1.1446e+18, 1.1447e+18],\n",
       "         [1.3468e+18, 1.3469e+18, 1.3470e+18, 1.3472e+18, 1.3473e+18, 1.3474e+18,\n",
       "          1.3475e+18, 1.3476e+18, 1.3478e+18, 1.3479e+18, 1.3480e+18, 1.3481e+18,\n",
       "          1.3482e+18, 1.3484e+18, 1.3485e+18, 1.3486e+18, 1.3487e+18, 1.3488e+18,\n",
       "          1.3490e+18, 1.3491e+18, 1.3492e+18, 1.3493e+18],\n",
       "         [1.4458e+18, 1.4459e+18, 1.4460e+18, 1.4461e+18, 1.4462e+18, 1.4464e+18,\n",
       "          1.4465e+18, 1.4466e+18, 1.4467e+18, 1.4468e+18, 1.4470e+18, 1.4471e+18,\n",
       "          1.4472e+18, 1.4473e+18, 1.4474e+18, 1.4476e+18, 1.4477e+18, 1.4478e+18,\n",
       "          1.4479e+18, 1.4480e+18, 1.4482e+18, 1.4483e+18],\n",
       "         [1.0905e+18, 1.0905e+18, 1.0908e+18, 1.0909e+18, 1.0910e+18, 1.0911e+18,\n",
       "          1.0911e+18, 1.0914e+18, 1.0915e+18, 1.0916e+18, 1.0917e+18, 1.0918e+18,\n",
       "          1.0920e+18, 1.0921e+18, 1.0922e+18, 1.0923e+18, 1.0924e+18, 1.0926e+18,\n",
       "          1.0927e+18, 1.0928e+18, 1.0929e+18, 1.0930e+18],\n",
       "         [1.0430e+18, 1.0431e+18, 1.0432e+18, 1.0433e+18, 1.0434e+18, 1.0436e+18,\n",
       "          1.0437e+18, 1.0438e+18, 1.0439e+18, 1.0440e+18, 1.0442e+18, 1.0443e+18,\n",
       "          1.0444e+18, 1.0445e+18, 1.0446e+18, 1.0448e+18, 1.0449e+18, 1.0450e+18,\n",
       "          1.0451e+18, 1.0452e+18, 1.0454e+18, 1.0455e+18],\n",
       "         [1.0328e+18, 1.0329e+18, 1.0330e+18, 1.0331e+18, 1.0333e+18, 1.0334e+18,\n",
       "          1.0335e+18, 1.0336e+18, 1.0337e+18, 1.0339e+18, 1.0340e+18, 1.0341e+18,\n",
       "          1.0342e+18, 1.0343e+18, 1.0346e+18, 1.0346e+18, 1.0347e+18, 1.0348e+18,\n",
       "          1.0349e+18, 1.0352e+18, 1.0352e+18, 1.0353e+18],\n",
       "         [9.4262e+17, 9.4271e+17, 9.4280e+17, 9.4288e+17, 9.4297e+17, 9.4323e+17,\n",
       "          9.4332e+17, 9.4340e+17, 9.4349e+17, 9.4357e+17, 9.4383e+17, 9.4392e+17,\n",
       "          9.4401e+17, 9.4409e+17, 9.4418e+17, 9.4444e+17, 9.4452e+17, 9.4461e+17,\n",
       "          9.4470e+17, 9.4478e+17, 9.4504e+17, 9.4513e+17]], dtype=torch.float64)}"
      ]
     },
     "execution_count": 130,
     "metadata": {},
     "output_type": "execute_result"
    }
   ],
   "source": [
    "next(iter(dataloader))"
   ]
  },
  {
   "cell_type": "code",
   "execution_count": null,
   "metadata": {},
   "outputs": [
    {
     "name": "stderr",
     "output_type": "stream",
     "text": [
      "C:\\Users\\Qraft\\AppData\\Local\\Temp/ipykernel_6148/2592350023.py:1: DeprecationWarning: `np.float` is a deprecated alias for the builtin `float`. To silence this warning, use `float` by itself. Doing this will not modify any behavior and is safe. If you specifically wanted the numpy scalar type, use `np.float64` here.\n",
      "Deprecated in NumPy 1.20; for more details and guidance: https://numpy.org/devdocs/release/1.20.0-notes.html#deprecations\n",
      "  np.array(X_date, dtype=np.float)\n"
     ]
    },
    {
     "ename": "ValueError",
     "evalue": "could not convert string to float: '1997-05-19'",
     "output_type": "error",
     "traceback": [
      "\u001b[1;31m---------------------------------------------------------------------------\u001b[0m",
      "\u001b[1;31mValueError\u001b[0m                                Traceback (most recent call last)",
      "\u001b[1;32m~\\AppData\\Local\\Temp/ipykernel_6148/2592350023.py\u001b[0m in \u001b[0;36m<module>\u001b[1;34m\u001b[0m\n\u001b[1;32m----> 1\u001b[1;33m \u001b[0mnp\u001b[0m\u001b[1;33m.\u001b[0m\u001b[0marray\u001b[0m\u001b[1;33m(\u001b[0m\u001b[0mX_date\u001b[0m\u001b[1;33m,\u001b[0m \u001b[0mdtype\u001b[0m\u001b[1;33m=\u001b[0m\u001b[0mnp\u001b[0m\u001b[1;33m.\u001b[0m\u001b[0mfloat\u001b[0m\u001b[1;33m)\u001b[0m\u001b[1;33m\u001b[0m\u001b[1;33m\u001b[0m\u001b[0m\n\u001b[0m",
      "\u001b[1;31mValueError\u001b[0m: could not convert string to float: '1997-05-19'"
     ]
    }
   ],
   "source": [
    "np.array(X_date, dtype=np.float)"
   ]
  },
  {
   "cell_type": "code",
   "execution_count": null,
   "metadata": {},
   "outputs": [
    {
     "data": {
      "text/plain": [
       "(6298, 66, 10)"
      ]
     },
     "execution_count": 56,
     "metadata": {},
     "output_type": "execute_result"
    }
   ],
   "source": [
    "X.shape"
   ]
  },
  {
   "cell_type": "markdown",
   "metadata": {},
   "source": [
    "## DataLoader Set"
   ]
  },
  {
   "cell_type": "code",
   "execution_count": null,
   "metadata": {},
   "outputs": [],
   "source": [
    "class DataLoaderSet:\n",
    "    \n",
    "    def __init__(self, X, Y, X_date, Y_date, path_ind_ls, train_ind, valid_ind_set, loader_params):\n",
    "        \"\"\" Building train/validation dataloader \n",
    "\n",
    "        Args:\n",
    "            path_ind_ls (tuple): set of path number corresponding to valid data set\n",
    "                ex\n",
    "                    (5, 2, 1)\n",
    "            train_ind (array): train index array set \n",
    "                ex\n",
    "                    array([1199, 1200, 1201, ..., 6295, 6296, 6297])\n",
    "            valid_ind_set (_type_): set of N number of validations index \n",
    "                ex\n",
    "                    [array([   0,    1,    2, ..., 1047, 1048, 1049]),\n",
    "                    array([2100, 2101, 2102, ..., 3147, 3148, 3149]),\n",
    "                    array([4200, 4201, 4202, ..., 5246, 5247, 5248])]\n",
    "            loader_params\n",
    "        Return \n",
    "            dataloader dictionary \n",
    "        \"\"\"\n",
    "        self.X = X\n",
    "        self.Y = Y \n",
    "        self.X_date = X_date\n",
    "        self.Y_date = Y_date\n",
    "        \n",
    "        self.path_ind_ls = path_ind_ls\n",
    "        self.train_ind = train_ind\n",
    "        self.valid_ind_set = valid_ind_set\n",
    "        self.loader_params = loader_params\n",
    "\n",
    "        self.dataloader = {}\n",
    "        self._trainloader()\n",
    "        self._validloader()\n",
    "\n",
    "    \n",
    "    def _trainloader(self):\n",
    "\n",
    "        # trainig\n",
    "        self.train_X, self.train_Y = self.X[self.train_ind], self.Y[self.train_ind]\n",
    "        self.train_x_date, self.train_y_date = self.X_date[self.train_ind], self.Y_date[self.train_ind]\n",
    "        \n",
    "        # scaling \n",
    "        scaling_value = self.train_X.reshape(-1, self.train_X.shape[-1])\n",
    "        mean, std = scaling_value.mean(axis = 0), scaling_value.std(axis = 0)\n",
    "        self.scaler = util.StandardScaler(mean, std)\n",
    "        \n",
    "        self.train_X = self.scaler.transform(self.train_X)\n",
    "        # TRAIN Dataloader generation \n",
    "        # print (\"Train loader generation\")\n",
    "        # train_loader = get_dataloader(train_X, train_Y, batch_size=batch_num, shuffle = True)\n",
    "        train_loader = CustomDataLoader(self.train_X, self.train_Y, self.train_x_date, self.train_y_date, self.loader_params['batch_size'], self.loader_params['device'], self.loader_params['shuffle'])\n",
    "        self.dataloader['train_loader'] = train_loader \n",
    "\n",
    "    def _validloader(self):\n",
    "\n",
    "        valid_loader_set = {} # key: path / value: valid loader\n",
    "\n",
    "        for ix, valid_ind in enumerate(self.valid_ind_set):\n",
    "            valid_X, valid_Y = self.X[valid_ind], self.Y[valid_ind]\n",
    "            x_date, y_date = self.X_date[valid_ind], self.Y_date[valid_ind]\n",
    "            valid_X = self.scaler.transform(valid_X)\n",
    "            # Custom Validation Loader \n",
    "            valid_loader = CustomDataLoader(valid_X, valid_Y, x_date, y_date, self.loader_params['batch_size'],  self.loader_params['device'], self.loader_params['shuffle'])\n",
    "            path_num = path_ind_ls[ix] # path number for each validation set \n",
    "            valid_loader_set[path_num] = valid_loader\n",
    "\n",
    "        self.dataloader['valid_loader'] = valid_loader_set"
   ]
  },
  {
   "cell_type": "code",
   "execution_count": null,
   "metadata": {},
   "outputs": [],
   "source": [
    "loader_params = {'batch_size': 32,\n",
    "                 'shuffle':True,\n",
    "                 'device':'cuda:0'}"
   ]
  },
  {
   "cell_type": "code",
   "execution_count": null,
   "metadata": {},
   "outputs": [
    {
     "data": {
      "text/plain": [
       "(4, 0)"
      ]
     },
     "execution_count": 59,
     "metadata": {},
     "output_type": "execute_result"
    }
   ],
   "source": [
    "path_ind_ls, train_ind, valid_ind_set = next(cv_split)\n",
    "path_ind_ls"
   ]
  },
  {
   "cell_type": "code",
   "execution_count": null,
   "metadata": {},
   "outputs": [
    {
     "data": {
      "text/plain": [
       "array([1112, 1113, 1114, ..., 5246, 5247, 5248])"
      ]
     },
     "execution_count": 60,
     "metadata": {},
     "output_type": "execute_result"
    }
   ],
   "source": [
    "train_ind"
   ]
  },
  {
   "cell_type": "code",
   "execution_count": null,
   "metadata": {},
   "outputs": [
    {
     "data": {
      "text/plain": [
       "2"
      ]
     },
     "execution_count": 61,
     "metadata": {},
     "output_type": "execute_result"
    }
   ],
   "source": [
    "len(valid_ind_set)"
   ]
  },
  {
   "cell_type": "code",
   "execution_count": null,
   "metadata": {},
   "outputs": [
    {
     "data": {
      "text/plain": [
       "63"
      ]
     },
     "execution_count": 62,
     "metadata": {},
     "output_type": "execute_result"
    }
   ],
   "source": [
    "2162 - 2099"
   ]
  },
  {
   "cell_type": "markdown",
   "metadata": {},
   "source": [
    "# Training"
   ]
  },
  {
   "cell_type": "code",
   "execution_count": null,
   "metadata": {},
   "outputs": [
    {
     "name": "stdout",
     "output_type": "stream",
     "text": [
      "i: 0\n",
      "** Model Loading **\n",
      "DataLoader generation...\n",
      "Training...\n"
     ]
    },
    {
     "ename": "TypeError",
     "evalue": "default_collate: batch must contain tensors, numpy arrays, numbers, dicts or lists; found object",
     "output_type": "error",
     "traceback": [
      "\u001b[1;31m---------------------------------------------------------------------------\u001b[0m",
      "\u001b[1;31mTypeError\u001b[0m                                 Traceback (most recent call last)",
      "\u001b[1;32m~\\AppData\\Local\\Temp/ipykernel_6148/4161643785.py\u001b[0m in \u001b[0;36m<module>\u001b[1;34m\u001b[0m\n\u001b[0;32m     32\u001b[0m \u001b[1;33m\u001b[0m\u001b[0m\n\u001b[0;32m     33\u001b[0m         \u001b[0mtrain_loader\u001b[0m \u001b[1;33m=\u001b[0m \u001b[0mloader_set\u001b[0m\u001b[1;33m[\u001b[0m\u001b[1;34m'train_loader'\u001b[0m\u001b[1;33m]\u001b[0m\u001b[1;33m\u001b[0m\u001b[1;33m\u001b[0m\u001b[0m\n\u001b[1;32m---> 34\u001b[1;33m         \u001b[1;32mfor\u001b[0m \u001b[0mtrain_x\u001b[0m\u001b[1;33m,\u001b[0m \u001b[0mtrain_y\u001b[0m\u001b[1;33m,\u001b[0m \u001b[0mdates\u001b[0m \u001b[1;32min\u001b[0m \u001b[0mtrain_loader\u001b[0m\u001b[1;33m:\u001b[0m\u001b[1;33m\u001b[0m\u001b[1;33m\u001b[0m\u001b[0m\n\u001b[0m\u001b[0;32m     35\u001b[0m \u001b[1;33m\u001b[0m\u001b[0m\n\u001b[0;32m     36\u001b[0m             \u001b[0mtrain_pred\u001b[0m \u001b[1;33m=\u001b[0m \u001b[0mModel\u001b[0m\u001b[1;33m(\u001b[0m\u001b[0mtrain_x\u001b[0m\u001b[1;33m)\u001b[0m\u001b[1;33m\u001b[0m\u001b[1;33m\u001b[0m\u001b[0m\n",
      "\u001b[1;32m~\\anaconda3\\envs\\etf\\lib\\site-packages\\torch\\utils\\data\\dataloader.py\u001b[0m in \u001b[0;36m__next__\u001b[1;34m(self)\u001b[0m\n\u001b[0;32m    519\u001b[0m             \u001b[1;32mif\u001b[0m \u001b[0mself\u001b[0m\u001b[1;33m.\u001b[0m\u001b[0m_sampler_iter\u001b[0m \u001b[1;32mis\u001b[0m \u001b[1;32mNone\u001b[0m\u001b[1;33m:\u001b[0m\u001b[1;33m\u001b[0m\u001b[1;33m\u001b[0m\u001b[0m\n\u001b[0;32m    520\u001b[0m                 \u001b[0mself\u001b[0m\u001b[1;33m.\u001b[0m\u001b[0m_reset\u001b[0m\u001b[1;33m(\u001b[0m\u001b[1;33m)\u001b[0m\u001b[1;33m\u001b[0m\u001b[1;33m\u001b[0m\u001b[0m\n\u001b[1;32m--> 521\u001b[1;33m             \u001b[0mdata\u001b[0m \u001b[1;33m=\u001b[0m \u001b[0mself\u001b[0m\u001b[1;33m.\u001b[0m\u001b[0m_next_data\u001b[0m\u001b[1;33m(\u001b[0m\u001b[1;33m)\u001b[0m\u001b[1;33m\u001b[0m\u001b[1;33m\u001b[0m\u001b[0m\n\u001b[0m\u001b[0;32m    522\u001b[0m             \u001b[0mself\u001b[0m\u001b[1;33m.\u001b[0m\u001b[0m_num_yielded\u001b[0m \u001b[1;33m+=\u001b[0m \u001b[1;36m1\u001b[0m\u001b[1;33m\u001b[0m\u001b[1;33m\u001b[0m\u001b[0m\n\u001b[0;32m    523\u001b[0m             \u001b[1;32mif\u001b[0m \u001b[0mself\u001b[0m\u001b[1;33m.\u001b[0m\u001b[0m_dataset_kind\u001b[0m \u001b[1;33m==\u001b[0m \u001b[0m_DatasetKind\u001b[0m\u001b[1;33m.\u001b[0m\u001b[0mIterable\u001b[0m \u001b[1;32mand\u001b[0m\u001b[0;31m \u001b[0m\u001b[0;31m\\\u001b[0m\u001b[1;33m\u001b[0m\u001b[1;33m\u001b[0m\u001b[0m\n",
      "\u001b[1;32m~\\anaconda3\\envs\\etf\\lib\\site-packages\\torch\\utils\\data\\dataloader.py\u001b[0m in \u001b[0;36m_next_data\u001b[1;34m(self)\u001b[0m\n\u001b[0;32m    559\u001b[0m     \u001b[1;32mdef\u001b[0m \u001b[0m_next_data\u001b[0m\u001b[1;33m(\u001b[0m\u001b[0mself\u001b[0m\u001b[1;33m)\u001b[0m\u001b[1;33m:\u001b[0m\u001b[1;33m\u001b[0m\u001b[1;33m\u001b[0m\u001b[0m\n\u001b[0;32m    560\u001b[0m         \u001b[0mindex\u001b[0m \u001b[1;33m=\u001b[0m \u001b[0mself\u001b[0m\u001b[1;33m.\u001b[0m\u001b[0m_next_index\u001b[0m\u001b[1;33m(\u001b[0m\u001b[1;33m)\u001b[0m  \u001b[1;31m# may raise StopIteration\u001b[0m\u001b[1;33m\u001b[0m\u001b[1;33m\u001b[0m\u001b[0m\n\u001b[1;32m--> 561\u001b[1;33m         \u001b[0mdata\u001b[0m \u001b[1;33m=\u001b[0m \u001b[0mself\u001b[0m\u001b[1;33m.\u001b[0m\u001b[0m_dataset_fetcher\u001b[0m\u001b[1;33m.\u001b[0m\u001b[0mfetch\u001b[0m\u001b[1;33m(\u001b[0m\u001b[0mindex\u001b[0m\u001b[1;33m)\u001b[0m  \u001b[1;31m# may raise StopIteration\u001b[0m\u001b[1;33m\u001b[0m\u001b[1;33m\u001b[0m\u001b[0m\n\u001b[0m\u001b[0;32m    562\u001b[0m         \u001b[1;32mif\u001b[0m \u001b[0mself\u001b[0m\u001b[1;33m.\u001b[0m\u001b[0m_pin_memory\u001b[0m\u001b[1;33m:\u001b[0m\u001b[1;33m\u001b[0m\u001b[1;33m\u001b[0m\u001b[0m\n\u001b[0;32m    563\u001b[0m             \u001b[0mdata\u001b[0m \u001b[1;33m=\u001b[0m \u001b[0m_utils\u001b[0m\u001b[1;33m.\u001b[0m\u001b[0mpin_memory\u001b[0m\u001b[1;33m.\u001b[0m\u001b[0mpin_memory\u001b[0m\u001b[1;33m(\u001b[0m\u001b[0mdata\u001b[0m\u001b[1;33m)\u001b[0m\u001b[1;33m\u001b[0m\u001b[1;33m\u001b[0m\u001b[0m\n",
      "\u001b[1;32m~\\anaconda3\\envs\\etf\\lib\\site-packages\\torch\\utils\\data\\_utils\\fetch.py\u001b[0m in \u001b[0;36mfetch\u001b[1;34m(self, possibly_batched_index)\u001b[0m\n\u001b[0;32m     50\u001b[0m         \u001b[1;32melse\u001b[0m\u001b[1;33m:\u001b[0m\u001b[1;33m\u001b[0m\u001b[1;33m\u001b[0m\u001b[0m\n\u001b[0;32m     51\u001b[0m             \u001b[0mdata\u001b[0m \u001b[1;33m=\u001b[0m \u001b[0mself\u001b[0m\u001b[1;33m.\u001b[0m\u001b[0mdataset\u001b[0m\u001b[1;33m[\u001b[0m\u001b[0mpossibly_batched_index\u001b[0m\u001b[1;33m]\u001b[0m\u001b[1;33m\u001b[0m\u001b[1;33m\u001b[0m\u001b[0m\n\u001b[1;32m---> 52\u001b[1;33m         \u001b[1;32mreturn\u001b[0m \u001b[0mself\u001b[0m\u001b[1;33m.\u001b[0m\u001b[0mcollate_fn\u001b[0m\u001b[1;33m(\u001b[0m\u001b[0mdata\u001b[0m\u001b[1;33m)\u001b[0m\u001b[1;33m\u001b[0m\u001b[1;33m\u001b[0m\u001b[0m\n\u001b[0m",
      "\u001b[1;32m~\\anaconda3\\envs\\etf\\lib\\site-packages\\torch\\utils\\data\\_utils\\collate.py\u001b[0m in \u001b[0;36mdefault_collate\u001b[1;34m(batch)\u001b[0m\n\u001b[0;32m     72\u001b[0m         \u001b[1;32mreturn\u001b[0m \u001b[0mbatch\u001b[0m\u001b[1;33m\u001b[0m\u001b[1;33m\u001b[0m\u001b[0m\n\u001b[0;32m     73\u001b[0m     \u001b[1;32melif\u001b[0m \u001b[0misinstance\u001b[0m\u001b[1;33m(\u001b[0m\u001b[0melem\u001b[0m\u001b[1;33m,\u001b[0m \u001b[0mcollections\u001b[0m\u001b[1;33m.\u001b[0m\u001b[0mabc\u001b[0m\u001b[1;33m.\u001b[0m\u001b[0mMapping\u001b[0m\u001b[1;33m)\u001b[0m\u001b[1;33m:\u001b[0m\u001b[1;33m\u001b[0m\u001b[1;33m\u001b[0m\u001b[0m\n\u001b[1;32m---> 74\u001b[1;33m         \u001b[1;32mreturn\u001b[0m \u001b[1;33m{\u001b[0m\u001b[0mkey\u001b[0m\u001b[1;33m:\u001b[0m \u001b[0mdefault_collate\u001b[0m\u001b[1;33m(\u001b[0m\u001b[1;33m[\u001b[0m\u001b[0md\u001b[0m\u001b[1;33m[\u001b[0m\u001b[0mkey\u001b[0m\u001b[1;33m]\u001b[0m \u001b[1;32mfor\u001b[0m \u001b[0md\u001b[0m \u001b[1;32min\u001b[0m \u001b[0mbatch\u001b[0m\u001b[1;33m]\u001b[0m\u001b[1;33m)\u001b[0m \u001b[1;32mfor\u001b[0m \u001b[0mkey\u001b[0m \u001b[1;32min\u001b[0m \u001b[0melem\u001b[0m\u001b[1;33m}\u001b[0m\u001b[1;33m\u001b[0m\u001b[1;33m\u001b[0m\u001b[0m\n\u001b[0m\u001b[0;32m     75\u001b[0m     \u001b[1;32melif\u001b[0m \u001b[0misinstance\u001b[0m\u001b[1;33m(\u001b[0m\u001b[0melem\u001b[0m\u001b[1;33m,\u001b[0m \u001b[0mtuple\u001b[0m\u001b[1;33m)\u001b[0m \u001b[1;32mand\u001b[0m \u001b[0mhasattr\u001b[0m\u001b[1;33m(\u001b[0m\u001b[0melem\u001b[0m\u001b[1;33m,\u001b[0m \u001b[1;34m'_fields'\u001b[0m\u001b[1;33m)\u001b[0m\u001b[1;33m:\u001b[0m  \u001b[1;31m# namedtuple\u001b[0m\u001b[1;33m\u001b[0m\u001b[1;33m\u001b[0m\u001b[0m\n\u001b[0;32m     76\u001b[0m         \u001b[1;32mreturn\u001b[0m \u001b[0melem_type\u001b[0m\u001b[1;33m(\u001b[0m\u001b[1;33m*\u001b[0m\u001b[1;33m(\u001b[0m\u001b[0mdefault_collate\u001b[0m\u001b[1;33m(\u001b[0m\u001b[0msamples\u001b[0m\u001b[1;33m)\u001b[0m \u001b[1;32mfor\u001b[0m \u001b[0msamples\u001b[0m \u001b[1;32min\u001b[0m \u001b[0mzip\u001b[0m\u001b[1;33m(\u001b[0m\u001b[1;33m*\u001b[0m\u001b[0mbatch\u001b[0m\u001b[1;33m)\u001b[0m\u001b[1;33m)\u001b[0m\u001b[1;33m)\u001b[0m\u001b[1;33m\u001b[0m\u001b[1;33m\u001b[0m\u001b[0m\n",
      "\u001b[1;32m~\\anaconda3\\envs\\etf\\lib\\site-packages\\torch\\utils\\data\\_utils\\collate.py\u001b[0m in \u001b[0;36m<dictcomp>\u001b[1;34m(.0)\u001b[0m\n\u001b[0;32m     72\u001b[0m         \u001b[1;32mreturn\u001b[0m \u001b[0mbatch\u001b[0m\u001b[1;33m\u001b[0m\u001b[1;33m\u001b[0m\u001b[0m\n\u001b[0;32m     73\u001b[0m     \u001b[1;32melif\u001b[0m \u001b[0misinstance\u001b[0m\u001b[1;33m(\u001b[0m\u001b[0melem\u001b[0m\u001b[1;33m,\u001b[0m \u001b[0mcollections\u001b[0m\u001b[1;33m.\u001b[0m\u001b[0mabc\u001b[0m\u001b[1;33m.\u001b[0m\u001b[0mMapping\u001b[0m\u001b[1;33m)\u001b[0m\u001b[1;33m:\u001b[0m\u001b[1;33m\u001b[0m\u001b[1;33m\u001b[0m\u001b[0m\n\u001b[1;32m---> 74\u001b[1;33m         \u001b[1;32mreturn\u001b[0m \u001b[1;33m{\u001b[0m\u001b[0mkey\u001b[0m\u001b[1;33m:\u001b[0m \u001b[0mdefault_collate\u001b[0m\u001b[1;33m(\u001b[0m\u001b[1;33m[\u001b[0m\u001b[0md\u001b[0m\u001b[1;33m[\u001b[0m\u001b[0mkey\u001b[0m\u001b[1;33m]\u001b[0m \u001b[1;32mfor\u001b[0m \u001b[0md\u001b[0m \u001b[1;32min\u001b[0m \u001b[0mbatch\u001b[0m\u001b[1;33m]\u001b[0m\u001b[1;33m)\u001b[0m \u001b[1;32mfor\u001b[0m \u001b[0mkey\u001b[0m \u001b[1;32min\u001b[0m \u001b[0melem\u001b[0m\u001b[1;33m}\u001b[0m\u001b[1;33m\u001b[0m\u001b[1;33m\u001b[0m\u001b[0m\n\u001b[0m\u001b[0;32m     75\u001b[0m     \u001b[1;32melif\u001b[0m \u001b[0misinstance\u001b[0m\u001b[1;33m(\u001b[0m\u001b[0melem\u001b[0m\u001b[1;33m,\u001b[0m \u001b[0mtuple\u001b[0m\u001b[1;33m)\u001b[0m \u001b[1;32mand\u001b[0m \u001b[0mhasattr\u001b[0m\u001b[1;33m(\u001b[0m\u001b[0melem\u001b[0m\u001b[1;33m,\u001b[0m \u001b[1;34m'_fields'\u001b[0m\u001b[1;33m)\u001b[0m\u001b[1;33m:\u001b[0m  \u001b[1;31m# namedtuple\u001b[0m\u001b[1;33m\u001b[0m\u001b[1;33m\u001b[0m\u001b[0m\n\u001b[0;32m     76\u001b[0m         \u001b[1;32mreturn\u001b[0m \u001b[0melem_type\u001b[0m\u001b[1;33m(\u001b[0m\u001b[1;33m*\u001b[0m\u001b[1;33m(\u001b[0m\u001b[0mdefault_collate\u001b[0m\u001b[1;33m(\u001b[0m\u001b[0msamples\u001b[0m\u001b[1;33m)\u001b[0m \u001b[1;32mfor\u001b[0m \u001b[0msamples\u001b[0m \u001b[1;32min\u001b[0m \u001b[0mzip\u001b[0m\u001b[1;33m(\u001b[0m\u001b[1;33m*\u001b[0m\u001b[0mbatch\u001b[0m\u001b[1;33m)\u001b[0m\u001b[1;33m)\u001b[0m\u001b[1;33m)\u001b[0m\u001b[1;33m\u001b[0m\u001b[1;33m\u001b[0m\u001b[0m\n",
      "\u001b[1;32m~\\anaconda3\\envs\\etf\\lib\\site-packages\\torch\\utils\\data\\_utils\\collate.py\u001b[0m in \u001b[0;36mdefault_collate\u001b[1;34m(batch)\u001b[0m\n\u001b[0;32m     60\u001b[0m             \u001b[1;31m# array of string classes and object\u001b[0m\u001b[1;33m\u001b[0m\u001b[1;33m\u001b[0m\u001b[1;33m\u001b[0m\u001b[0m\n\u001b[0;32m     61\u001b[0m             \u001b[1;32mif\u001b[0m \u001b[0mnp_str_obj_array_pattern\u001b[0m\u001b[1;33m.\u001b[0m\u001b[0msearch\u001b[0m\u001b[1;33m(\u001b[0m\u001b[0melem\u001b[0m\u001b[1;33m.\u001b[0m\u001b[0mdtype\u001b[0m\u001b[1;33m.\u001b[0m\u001b[0mstr\u001b[0m\u001b[1;33m)\u001b[0m \u001b[1;32mis\u001b[0m \u001b[1;32mnot\u001b[0m \u001b[1;32mNone\u001b[0m\u001b[1;33m:\u001b[0m\u001b[1;33m\u001b[0m\u001b[1;33m\u001b[0m\u001b[0m\n\u001b[1;32m---> 62\u001b[1;33m                 \u001b[1;32mraise\u001b[0m \u001b[0mTypeError\u001b[0m\u001b[1;33m(\u001b[0m\u001b[0mdefault_collate_err_msg_format\u001b[0m\u001b[1;33m.\u001b[0m\u001b[0mformat\u001b[0m\u001b[1;33m(\u001b[0m\u001b[0melem\u001b[0m\u001b[1;33m.\u001b[0m\u001b[0mdtype\u001b[0m\u001b[1;33m)\u001b[0m\u001b[1;33m)\u001b[0m\u001b[1;33m\u001b[0m\u001b[1;33m\u001b[0m\u001b[0m\n\u001b[0m\u001b[0;32m     63\u001b[0m \u001b[1;33m\u001b[0m\u001b[0m\n\u001b[0;32m     64\u001b[0m             \u001b[1;32mreturn\u001b[0m \u001b[0mdefault_collate\u001b[0m\u001b[1;33m(\u001b[0m\u001b[1;33m[\u001b[0m\u001b[0mtorch\u001b[0m\u001b[1;33m.\u001b[0m\u001b[0mas_tensor\u001b[0m\u001b[1;33m(\u001b[0m\u001b[0mb\u001b[0m\u001b[1;33m)\u001b[0m \u001b[1;32mfor\u001b[0m \u001b[0mb\u001b[0m \u001b[1;32min\u001b[0m \u001b[0mbatch\u001b[0m\u001b[1;33m]\u001b[0m\u001b[1;33m)\u001b[0m\u001b[1;33m\u001b[0m\u001b[1;33m\u001b[0m\u001b[0m\n",
      "\u001b[1;31mTypeError\u001b[0m: default_collate: batch must contain tensors, numpy arrays, numbers, dicts or lists; found object"
     ]
    }
   ],
   "source": [
    "\n",
    "total_loss = [0 for _ in range(path_num)]\n",
    "\n",
    "for idx, (path_ind_ls, train_ind, valid_ind_set) in enumerate(cv_split): # 결국 순서대로 -> 순서 자체가 train model number\n",
    "    \n",
    "    print ('i:', idx)\n",
    "    # MODEL INIT\n",
    "    ######### Model 을 정의하는 부분 ########\n",
    "    print (\"** Model Loading **\")\n",
    "    Model = LSTM_Model(num_assets, past_seq, future_seq, num_layers, device)\n",
    "\n",
    "    Model.to(device)\n",
    "\n",
    "    criterion = nn.L1Loss() # Loss function 을 정의합니다 : MAE\n",
    "    optimizer = torch.optim.Adam(Model.parameters(), lr = 0.01) # optimizer 을 설정해 줍니다. \n",
    "    \n",
    "    # DataLoader \n",
    "    print (\"DataLoader generation...\")\n",
    "    LoaderGenerator = DataLoaderSet(X, Y, X_date, Y_date, path_ind_ls, train_ind, valid_ind_set, loader_params)\n",
    "    loader_set = LoaderGenerator.dataloader\n",
    "    \n",
    "    # scaler2 for prediction during training\n",
    "    mean2 = torch.from_numpy(LoaderGenerator.scaler.mean).to(device)\n",
    "    std2 = torch.from_numpy(LoaderGenerator.scaler.std).to(device)\n",
    "\n",
    "    scaler2 = util.StandardScaler(mean2, std2)\n",
    "    # TRAIN     \n",
    "    # Epoch \n",
    "    print (\"Training...\")\n",
    "    for epoch in range(epoch_num):\n",
    "        Model.train()\n",
    "        epoch_train_loss = []\n",
    "        \n",
    "        train_loader = loader_set['train_loader']\n",
    "        for data in train_loader:\n",
    "            train_x, train_y, train_dates = data['inputs'], data['outputs'], data['']\n",
    "            train_pred = Model(train_x)\n",
    "            \n",
    "            train_pred = scaler2.inverse_transform(train_pred)\n",
    "            \n",
    "            loss_train = criterion(train_pred, train_y)\n",
    "            loss_train.backward()\n",
    "            optimizer.step()\n",
    "            optimizer.zero_grad()\n",
    "    \n",
    "    # Validation \n",
    "    print (\"Validation...\")\n",
    "    Model.eval()\n",
    "    valid_loader_set = loader_set['valid_loader']\n",
    "    \n",
    "    for path_num in list(valid_loader_set.keys()):\n",
    "        # print (\"Path num: \", path_num)\n",
    "        n_valid_loader = valid_loader_set[path_num]\n",
    "        for valid_x, valid_y, valid_dates in n_valid_loader:\n",
    "            val_pred = Model(valid_x)\n",
    "            val_pred = scaler2.inverse_transform(val_pred)\n",
    "            \n",
    "            val_loss = criterion(val_pred, valid_y)\n",
    "            \n",
    "            total_loss[path_num] += val_loss\n",
    "            \n",
    "for i in range(len(total_loss)):\n",
    "    total_loss[i] /= total_split_num"
   ]
  },
  {
   "cell_type": "code",
   "execution_count": null,
   "metadata": {},
   "outputs": [
    {
     "ename": "ValueError",
     "evalue": "could not convert string to float: '1997-05-19'",
     "output_type": "error",
     "traceback": [
      "\u001b[1;31m---------------------------------------------------------------------------\u001b[0m",
      "\u001b[1;31mValueError\u001b[0m                                Traceback (most recent call last)",
      "\u001b[1;32m~\\AppData\\Local\\Temp/ipykernel_6148/3115798823.py\u001b[0m in \u001b[0;36m<module>\u001b[1;34m\u001b[0m\n\u001b[1;32m----> 1\u001b[1;33m \u001b[0mnp\u001b[0m\u001b[1;33m.\u001b[0m\u001b[0marray\u001b[0m\u001b[1;33m(\u001b[0m\u001b[0mX_date\u001b[0m\u001b[1;33m,\u001b[0m \u001b[0mdtype\u001b[0m\u001b[1;33m=\u001b[0m\u001b[1;34m'float'\u001b[0m\u001b[1;33m)\u001b[0m\u001b[1;33m\u001b[0m\u001b[1;33m\u001b[0m\u001b[0m\n\u001b[0m",
      "\u001b[1;31mValueError\u001b[0m: could not convert string to float: '1997-05-19'"
     ]
    }
   ],
   "source": [
    "np.array(X_date, dtype='float')\n"
   ]
  },
  {
   "cell_type": "code",
   "execution_count": null,
   "metadata": {},
   "outputs": [
    {
     "ename": "AttributeError",
     "evalue": "'numpy.ndarray' object has no attribute 'float'",
     "output_type": "error",
     "traceback": [
      "\u001b[1;31m---------------------------------------------------------------------------\u001b[0m",
      "\u001b[1;31mAttributeError\u001b[0m                            Traceback (most recent call last)",
      "\u001b[1;32m~\\AppData\\Local\\Temp/ipykernel_6148/3961005993.py\u001b[0m in \u001b[0;36m<module>\u001b[1;34m\u001b[0m\n\u001b[1;32m----> 1\u001b[1;33m \u001b[0mnext\u001b[0m\u001b[1;33m(\u001b[0m\u001b[0miter\u001b[0m\u001b[1;33m(\u001b[0m\u001b[0mtrain_loader\u001b[0m\u001b[1;33m)\u001b[0m\u001b[1;33m)\u001b[0m\u001b[1;33m\u001b[0m\u001b[1;33m\u001b[0m\u001b[0m\n\u001b[0m",
      "\u001b[1;32m~\\anaconda3\\envs\\etf\\lib\\site-packages\\torch\\utils\\data\\dataloader.py\u001b[0m in \u001b[0;36m__next__\u001b[1;34m(self)\u001b[0m\n\u001b[0;32m    519\u001b[0m             \u001b[1;32mif\u001b[0m \u001b[0mself\u001b[0m\u001b[1;33m.\u001b[0m\u001b[0m_sampler_iter\u001b[0m \u001b[1;32mis\u001b[0m \u001b[1;32mNone\u001b[0m\u001b[1;33m:\u001b[0m\u001b[1;33m\u001b[0m\u001b[1;33m\u001b[0m\u001b[0m\n\u001b[0;32m    520\u001b[0m                 \u001b[0mself\u001b[0m\u001b[1;33m.\u001b[0m\u001b[0m_reset\u001b[0m\u001b[1;33m(\u001b[0m\u001b[1;33m)\u001b[0m\u001b[1;33m\u001b[0m\u001b[1;33m\u001b[0m\u001b[0m\n\u001b[1;32m--> 521\u001b[1;33m             \u001b[0mdata\u001b[0m \u001b[1;33m=\u001b[0m \u001b[0mself\u001b[0m\u001b[1;33m.\u001b[0m\u001b[0m_next_data\u001b[0m\u001b[1;33m(\u001b[0m\u001b[1;33m)\u001b[0m\u001b[1;33m\u001b[0m\u001b[1;33m\u001b[0m\u001b[0m\n\u001b[0m\u001b[0;32m    522\u001b[0m             \u001b[0mself\u001b[0m\u001b[1;33m.\u001b[0m\u001b[0m_num_yielded\u001b[0m \u001b[1;33m+=\u001b[0m \u001b[1;36m1\u001b[0m\u001b[1;33m\u001b[0m\u001b[1;33m\u001b[0m\u001b[0m\n\u001b[0;32m    523\u001b[0m             \u001b[1;32mif\u001b[0m \u001b[0mself\u001b[0m\u001b[1;33m.\u001b[0m\u001b[0m_dataset_kind\u001b[0m \u001b[1;33m==\u001b[0m \u001b[0m_DatasetKind\u001b[0m\u001b[1;33m.\u001b[0m\u001b[0mIterable\u001b[0m \u001b[1;32mand\u001b[0m\u001b[0;31m \u001b[0m\u001b[0;31m\\\u001b[0m\u001b[1;33m\u001b[0m\u001b[1;33m\u001b[0m\u001b[0m\n",
      "\u001b[1;32m~\\anaconda3\\envs\\etf\\lib\\site-packages\\torch\\utils\\data\\dataloader.py\u001b[0m in \u001b[0;36m_next_data\u001b[1;34m(self)\u001b[0m\n\u001b[0;32m    559\u001b[0m     \u001b[1;32mdef\u001b[0m \u001b[0m_next_data\u001b[0m\u001b[1;33m(\u001b[0m\u001b[0mself\u001b[0m\u001b[1;33m)\u001b[0m\u001b[1;33m:\u001b[0m\u001b[1;33m\u001b[0m\u001b[1;33m\u001b[0m\u001b[0m\n\u001b[0;32m    560\u001b[0m         \u001b[0mindex\u001b[0m \u001b[1;33m=\u001b[0m \u001b[0mself\u001b[0m\u001b[1;33m.\u001b[0m\u001b[0m_next_index\u001b[0m\u001b[1;33m(\u001b[0m\u001b[1;33m)\u001b[0m  \u001b[1;31m# may raise StopIteration\u001b[0m\u001b[1;33m\u001b[0m\u001b[1;33m\u001b[0m\u001b[0m\n\u001b[1;32m--> 561\u001b[1;33m         \u001b[0mdata\u001b[0m \u001b[1;33m=\u001b[0m \u001b[0mself\u001b[0m\u001b[1;33m.\u001b[0m\u001b[0m_dataset_fetcher\u001b[0m\u001b[1;33m.\u001b[0m\u001b[0mfetch\u001b[0m\u001b[1;33m(\u001b[0m\u001b[0mindex\u001b[0m\u001b[1;33m)\u001b[0m  \u001b[1;31m# may raise StopIteration\u001b[0m\u001b[1;33m\u001b[0m\u001b[1;33m\u001b[0m\u001b[0m\n\u001b[0m\u001b[0;32m    562\u001b[0m         \u001b[1;32mif\u001b[0m \u001b[0mself\u001b[0m\u001b[1;33m.\u001b[0m\u001b[0m_pin_memory\u001b[0m\u001b[1;33m:\u001b[0m\u001b[1;33m\u001b[0m\u001b[1;33m\u001b[0m\u001b[0m\n\u001b[0;32m    563\u001b[0m             \u001b[0mdata\u001b[0m \u001b[1;33m=\u001b[0m \u001b[0m_utils\u001b[0m\u001b[1;33m.\u001b[0m\u001b[0mpin_memory\u001b[0m\u001b[1;33m.\u001b[0m\u001b[0mpin_memory\u001b[0m\u001b[1;33m(\u001b[0m\u001b[0mdata\u001b[0m\u001b[1;33m)\u001b[0m\u001b[1;33m\u001b[0m\u001b[1;33m\u001b[0m\u001b[0m\n",
      "\u001b[1;32m~\\anaconda3\\envs\\etf\\lib\\site-packages\\torch\\utils\\data\\_utils\\fetch.py\u001b[0m in \u001b[0;36mfetch\u001b[1;34m(self, possibly_batched_index)\u001b[0m\n\u001b[0;32m     47\u001b[0m     \u001b[1;32mdef\u001b[0m \u001b[0mfetch\u001b[0m\u001b[1;33m(\u001b[0m\u001b[0mself\u001b[0m\u001b[1;33m,\u001b[0m \u001b[0mpossibly_batched_index\u001b[0m\u001b[1;33m)\u001b[0m\u001b[1;33m:\u001b[0m\u001b[1;33m\u001b[0m\u001b[1;33m\u001b[0m\u001b[0m\n\u001b[0;32m     48\u001b[0m         \u001b[1;32mif\u001b[0m \u001b[0mself\u001b[0m\u001b[1;33m.\u001b[0m\u001b[0mauto_collation\u001b[0m\u001b[1;33m:\u001b[0m\u001b[1;33m\u001b[0m\u001b[1;33m\u001b[0m\u001b[0m\n\u001b[1;32m---> 49\u001b[1;33m             \u001b[0mdata\u001b[0m \u001b[1;33m=\u001b[0m \u001b[1;33m[\u001b[0m\u001b[0mself\u001b[0m\u001b[1;33m.\u001b[0m\u001b[0mdataset\u001b[0m\u001b[1;33m[\u001b[0m\u001b[0midx\u001b[0m\u001b[1;33m]\u001b[0m \u001b[1;32mfor\u001b[0m \u001b[0midx\u001b[0m \u001b[1;32min\u001b[0m \u001b[0mpossibly_batched_index\u001b[0m\u001b[1;33m]\u001b[0m\u001b[1;33m\u001b[0m\u001b[1;33m\u001b[0m\u001b[0m\n\u001b[0m\u001b[0;32m     50\u001b[0m         \u001b[1;32melse\u001b[0m\u001b[1;33m:\u001b[0m\u001b[1;33m\u001b[0m\u001b[1;33m\u001b[0m\u001b[0m\n\u001b[0;32m     51\u001b[0m             \u001b[0mdata\u001b[0m \u001b[1;33m=\u001b[0m \u001b[0mself\u001b[0m\u001b[1;33m.\u001b[0m\u001b[0mdataset\u001b[0m\u001b[1;33m[\u001b[0m\u001b[0mpossibly_batched_index\u001b[0m\u001b[1;33m]\u001b[0m\u001b[1;33m\u001b[0m\u001b[1;33m\u001b[0m\u001b[0m\n",
      "\u001b[1;32m~\\anaconda3\\envs\\etf\\lib\\site-packages\\torch\\utils\\data\\_utils\\fetch.py\u001b[0m in \u001b[0;36m<listcomp>\u001b[1;34m(.0)\u001b[0m\n\u001b[0;32m     47\u001b[0m     \u001b[1;32mdef\u001b[0m \u001b[0mfetch\u001b[0m\u001b[1;33m(\u001b[0m\u001b[0mself\u001b[0m\u001b[1;33m,\u001b[0m \u001b[0mpossibly_batched_index\u001b[0m\u001b[1;33m)\u001b[0m\u001b[1;33m:\u001b[0m\u001b[1;33m\u001b[0m\u001b[1;33m\u001b[0m\u001b[0m\n\u001b[0;32m     48\u001b[0m         \u001b[1;32mif\u001b[0m \u001b[0mself\u001b[0m\u001b[1;33m.\u001b[0m\u001b[0mauto_collation\u001b[0m\u001b[1;33m:\u001b[0m\u001b[1;33m\u001b[0m\u001b[1;33m\u001b[0m\u001b[0m\n\u001b[1;32m---> 49\u001b[1;33m             \u001b[0mdata\u001b[0m \u001b[1;33m=\u001b[0m \u001b[1;33m[\u001b[0m\u001b[0mself\u001b[0m\u001b[1;33m.\u001b[0m\u001b[0mdataset\u001b[0m\u001b[1;33m[\u001b[0m\u001b[0midx\u001b[0m\u001b[1;33m]\u001b[0m \u001b[1;32mfor\u001b[0m \u001b[0midx\u001b[0m \u001b[1;32min\u001b[0m \u001b[0mpossibly_batched_index\u001b[0m\u001b[1;33m]\u001b[0m\u001b[1;33m\u001b[0m\u001b[1;33m\u001b[0m\u001b[0m\n\u001b[0m\u001b[0;32m     50\u001b[0m         \u001b[1;32melse\u001b[0m\u001b[1;33m:\u001b[0m\u001b[1;33m\u001b[0m\u001b[1;33m\u001b[0m\u001b[0m\n\u001b[0;32m     51\u001b[0m             \u001b[0mdata\u001b[0m \u001b[1;33m=\u001b[0m \u001b[0mself\u001b[0m\u001b[1;33m.\u001b[0m\u001b[0mdataset\u001b[0m\u001b[1;33m[\u001b[0m\u001b[0mpossibly_batched_index\u001b[0m\u001b[1;33m]\u001b[0m\u001b[1;33m\u001b[0m\u001b[1;33m\u001b[0m\u001b[0m\n",
      "\u001b[1;32m~\\AppData\\Local\\Temp/ipykernel_6148/2313186836.py\u001b[0m in \u001b[0;36m__getitem__\u001b[1;34m(self, index)\u001b[0m\n\u001b[0;32m     23\u001b[0m         \u001b[1;34m'inputs'\u001b[0m\u001b[1;33m:\u001b[0m \u001b[0mself\u001b[0m\u001b[1;33m.\u001b[0m\u001b[0minputs\u001b[0m\u001b[1;33m[\u001b[0m\u001b[0mindex\u001b[0m\u001b[1;33m]\u001b[0m\u001b[1;33m.\u001b[0m\u001b[0mfloat\u001b[0m\u001b[1;33m(\u001b[0m\u001b[1;33m)\u001b[0m\u001b[1;33m,\u001b[0m\u001b[1;33m\u001b[0m\u001b[1;33m\u001b[0m\u001b[0m\n\u001b[0;32m     24\u001b[0m         \u001b[1;34m'outputs'\u001b[0m\u001b[1;33m:\u001b[0m \u001b[0mself\u001b[0m\u001b[1;33m.\u001b[0m\u001b[0moutputs\u001b[0m\u001b[1;33m[\u001b[0m\u001b[0mindex\u001b[0m\u001b[1;33m]\u001b[0m\u001b[1;33m.\u001b[0m\u001b[0mfloat\u001b[0m\u001b[1;33m(\u001b[0m\u001b[1;33m)\u001b[0m\u001b[1;33m,\u001b[0m\u001b[1;33m\u001b[0m\u001b[1;33m\u001b[0m\u001b[0m\n\u001b[1;32m---> 25\u001b[1;33m         \u001b[1;34m'inputs_date'\u001b[0m\u001b[1;33m:\u001b[0m \u001b[0mself\u001b[0m\u001b[1;33m.\u001b[0m\u001b[0minputs_date\u001b[0m\u001b[1;33m[\u001b[0m\u001b[0mindex\u001b[0m\u001b[1;33m]\u001b[0m\u001b[1;33m.\u001b[0m\u001b[0mfloat\u001b[0m\u001b[1;33m(\u001b[0m\u001b[1;33m)\u001b[0m\u001b[1;33m,\u001b[0m\u001b[1;33m\u001b[0m\u001b[1;33m\u001b[0m\u001b[0m\n\u001b[0m\u001b[0;32m     26\u001b[0m         \u001b[1;34m'outputs_date'\u001b[0m\u001b[1;33m:\u001b[0m \u001b[0mself\u001b[0m\u001b[1;33m.\u001b[0m\u001b[0moutputs_date\u001b[0m\u001b[1;33m[\u001b[0m\u001b[0mindex\u001b[0m\u001b[1;33m]\u001b[0m\u001b[1;33m.\u001b[0m\u001b[0mfloat\u001b[0m\u001b[1;33m(\u001b[0m\u001b[1;33m)\u001b[0m\u001b[1;33m\u001b[0m\u001b[1;33m\u001b[0m\u001b[0m\n\u001b[0;32m     27\u001b[0m         }\n",
      "\u001b[1;31mAttributeError\u001b[0m: 'numpy.ndarray' object has no attribute 'float'"
     ]
    }
   ],
   "source": [
    "next(iter(train_loader))"
   ]
  },
  {
   "cell_type": "code",
   "execution_count": null,
   "metadata": {},
   "outputs": [
    {
     "ename": "AttributeError",
     "evalue": "'int' object has no attribute 'detach'",
     "output_type": "error",
     "traceback": [
      "\u001b[1;31m---------------------------------------------------------------------------\u001b[0m",
      "\u001b[1;31mAttributeError\u001b[0m                            Traceback (most recent call last)",
      "\u001b[1;32m~\\AppData\\Local\\Temp/ipykernel_6148/3721561715.py\u001b[0m in \u001b[0;36m<module>\u001b[1;34m\u001b[0m\n\u001b[0;32m      4\u001b[0m \u001b[0mplt\u001b[0m\u001b[1;33m.\u001b[0m\u001b[0mylabel\u001b[0m\u001b[1;33m(\u001b[0m\u001b[1;34m\"Loss\"\u001b[0m\u001b[1;33m)\u001b[0m\u001b[1;33m\u001b[0m\u001b[1;33m\u001b[0m\u001b[0m\n\u001b[0;32m      5\u001b[0m \u001b[0mplt\u001b[0m\u001b[1;33m.\u001b[0m\u001b[0mxlabel\u001b[0m\u001b[1;33m(\u001b[0m\u001b[1;34m\"Path Number\"\u001b[0m\u001b[1;33m)\u001b[0m\u001b[1;33m\u001b[0m\u001b[1;33m\u001b[0m\u001b[0m\n\u001b[1;32m----> 6\u001b[1;33m \u001b[0mplt\u001b[0m\u001b[1;33m.\u001b[0m\u001b[0mbar\u001b[0m\u001b[1;33m(\u001b[0m\u001b[1;33m[\u001b[0m\u001b[0mi\u001b[0m\u001b[1;33m+\u001b[0m\u001b[1;36m1\u001b[0m \u001b[1;32mfor\u001b[0m \u001b[0mi\u001b[0m \u001b[1;32min\u001b[0m \u001b[0mrange\u001b[0m\u001b[1;33m(\u001b[0m\u001b[0mlen\u001b[0m\u001b[1;33m(\u001b[0m\u001b[0mtotal_loss\u001b[0m\u001b[1;33m)\u001b[0m\u001b[1;33m)\u001b[0m\u001b[1;33m]\u001b[0m \u001b[1;33m,\u001b[0m\u001b[1;33m[\u001b[0m\u001b[0mnp\u001b[0m\u001b[1;33m.\u001b[0m\u001b[0marray\u001b[0m\u001b[1;33m(\u001b[0m\u001b[0mx\u001b[0m\u001b[1;33m.\u001b[0m\u001b[0mdetach\u001b[0m\u001b[1;33m(\u001b[0m\u001b[1;33m)\u001b[0m\u001b[1;33m.\u001b[0m\u001b[0mcpu\u001b[0m\u001b[1;33m(\u001b[0m\u001b[1;33m)\u001b[0m\u001b[1;33m)\u001b[0m \u001b[1;32mfor\u001b[0m \u001b[0mx\u001b[0m \u001b[1;32min\u001b[0m \u001b[0mtotal_loss\u001b[0m\u001b[1;33m]\u001b[0m\u001b[1;33m)\u001b[0m\u001b[1;33m\u001b[0m\u001b[1;33m\u001b[0m\u001b[0m\n\u001b[0m\u001b[0;32m      7\u001b[0m \u001b[0mplt\u001b[0m\u001b[1;33m.\u001b[0m\u001b[0mshow\u001b[0m\u001b[1;33m(\u001b[0m\u001b[1;33m)\u001b[0m\u001b[1;33m\u001b[0m\u001b[1;33m\u001b[0m\u001b[0m\n",
      "\u001b[1;32m~\\AppData\\Local\\Temp/ipykernel_6148/3721561715.py\u001b[0m in \u001b[0;36m<listcomp>\u001b[1;34m(.0)\u001b[0m\n\u001b[0;32m      4\u001b[0m \u001b[0mplt\u001b[0m\u001b[1;33m.\u001b[0m\u001b[0mylabel\u001b[0m\u001b[1;33m(\u001b[0m\u001b[1;34m\"Loss\"\u001b[0m\u001b[1;33m)\u001b[0m\u001b[1;33m\u001b[0m\u001b[1;33m\u001b[0m\u001b[0m\n\u001b[0;32m      5\u001b[0m \u001b[0mplt\u001b[0m\u001b[1;33m.\u001b[0m\u001b[0mxlabel\u001b[0m\u001b[1;33m(\u001b[0m\u001b[1;34m\"Path Number\"\u001b[0m\u001b[1;33m)\u001b[0m\u001b[1;33m\u001b[0m\u001b[1;33m\u001b[0m\u001b[0m\n\u001b[1;32m----> 6\u001b[1;33m \u001b[0mplt\u001b[0m\u001b[1;33m.\u001b[0m\u001b[0mbar\u001b[0m\u001b[1;33m(\u001b[0m\u001b[1;33m[\u001b[0m\u001b[0mi\u001b[0m\u001b[1;33m+\u001b[0m\u001b[1;36m1\u001b[0m \u001b[1;32mfor\u001b[0m \u001b[0mi\u001b[0m \u001b[1;32min\u001b[0m \u001b[0mrange\u001b[0m\u001b[1;33m(\u001b[0m\u001b[0mlen\u001b[0m\u001b[1;33m(\u001b[0m\u001b[0mtotal_loss\u001b[0m\u001b[1;33m)\u001b[0m\u001b[1;33m)\u001b[0m\u001b[1;33m]\u001b[0m \u001b[1;33m,\u001b[0m\u001b[1;33m[\u001b[0m\u001b[0mnp\u001b[0m\u001b[1;33m.\u001b[0m\u001b[0marray\u001b[0m\u001b[1;33m(\u001b[0m\u001b[0mx\u001b[0m\u001b[1;33m.\u001b[0m\u001b[0mdetach\u001b[0m\u001b[1;33m(\u001b[0m\u001b[1;33m)\u001b[0m\u001b[1;33m.\u001b[0m\u001b[0mcpu\u001b[0m\u001b[1;33m(\u001b[0m\u001b[1;33m)\u001b[0m\u001b[1;33m)\u001b[0m \u001b[1;32mfor\u001b[0m \u001b[0mx\u001b[0m \u001b[1;32min\u001b[0m \u001b[0mtotal_loss\u001b[0m\u001b[1;33m]\u001b[0m\u001b[1;33m)\u001b[0m\u001b[1;33m\u001b[0m\u001b[1;33m\u001b[0m\u001b[0m\n\u001b[0m\u001b[0;32m      7\u001b[0m \u001b[0mplt\u001b[0m\u001b[1;33m.\u001b[0m\u001b[0mshow\u001b[0m\u001b[1;33m(\u001b[0m\u001b[1;33m)\u001b[0m\u001b[1;33m\u001b[0m\u001b[1;33m\u001b[0m\u001b[0m\n",
      "\u001b[1;31mAttributeError\u001b[0m: 'int' object has no attribute 'detach'"
     ]
    },
    {
     "data": {
      "image/png": "[encoded data removed]",
      "text/plain": [
       "<Figure size 432x288 with 1 Axes>"
      ]
     },
     "metadata": {
      "needs_background": "light"
     },
     "output_type": "display_data"
    }
   ],
   "source": [
    "import seaborn as sns \n",
    "\n",
    "plt.title(\"Loss by Path\")\n",
    "plt.ylabel(\"Loss\")\n",
    "plt.xlabel(\"Path Number\")\n",
    "plt.bar([i+1 for i in range(len(total_loss))] ,[np.array(x.detach().cpu()) for x in total_loss])\n",
    "plt.show()"
   ]
  },
  {
   "cell_type": "code",
   "execution_count": null,
   "metadata": {},
   "outputs": [
    {
     "data": {
      "text/plain": [
       "array([['1997-05-19', '1997-05-20', '1997-05-21', ..., '1997-08-14',\n",
       "        '1997-08-15', '1997-08-18'],\n",
       "       ['1997-05-20', '1997-05-21', '1997-05-22', ..., '1997-08-15',\n",
       "        '1997-08-18', '1997-08-19'],\n",
       "       ['1997-05-21', '1997-05-22', '1997-05-23', ..., '1997-08-18',\n",
       "        '1997-08-19', '1997-08-20'],\n",
       "       ...,\n",
       "       ['2021-07-05', '2021-07-06', '2021-07-07', ..., '2021-09-30',\n",
       "        '2021-10-01', '2021-10-04'],\n",
       "       ['2021-07-06', '2021-07-07', '2021-07-08', ..., '2021-10-01',\n",
       "        '2021-10-04', '2021-10-05'],\n",
       "       ['2021-07-07', '2021-07-08', '2021-07-09', ..., '2021-10-04',\n",
       "        '2021-10-05', '2021-10-06']], dtype=object)"
      ]
     },
     "execution_count": 52,
     "metadata": {},
     "output_type": "execute_result"
    }
   ],
   "source": [
    "X_date"
   ]
  },
  {
   "cell_type": "code",
   "execution_count": null,
   "metadata": {},
   "outputs": [
    {
     "data": {
      "text/plain": [
       "<AxesSubplot:xlabel='date'>"
      ]
     },
     "execution_count": 34,
     "metadata": {},
     "output_type": "execute_result"
    },
    {
     "data": {
      "image/png": "[encoded data removed]",
      "text/plain": [
       "<Figure size 432x288 with 1 Axes>"
      ]
     },
     "metadata": {
      "needs_background": "light"
     },
     "output_type": "display_data"
    }
   ],
   "source": [
    "df.plot()"
   ]
  },
  {
   "cell_type": "code",
   "execution_count": null,
   "metadata": {},
   "outputs": [],
   "source": []
  },
  {
   "cell_type": "code",
   "execution_count": null,
   "metadata": {},
   "outputs": [],
   "source": []
  },
  {
   "cell_type": "code",
   "execution_count": null,
   "metadata": {},
   "outputs": [],
   "source": []
  },
  {
   "cell_type": "code",
   "execution_count": null,
   "metadata": {},
   "outputs": [],
   "source": []
  },
  {
   "cell_type": "code",
   "execution_count": null,
   "metadata": {},
   "outputs": [],
   "source": []
  },
  {
   "cell_type": "code",
   "execution_count": null,
   "metadata": {},
   "outputs": [],
   "source": []
  },
  {
   "cell_type": "code",
   "execution_count": null,
   "metadata": {},
   "outputs": [
    {
     "ename": "IndentationError",
     "evalue": "expected an indented block (Temp/ipykernel_18876/1026472396.py, line 46)",
     "output_type": "error",
     "traceback": [
      "\u001b[1;36m  File \u001b[1;32m\"C:\\Users\\Qraft\\AppData\\Local\\Temp/ipykernel_18876/1026472396.py\"\u001b[1;36m, line \u001b[1;32m46\u001b[0m\n\u001b[1;33m    total_loss[i] /= n_test\u001b[0m\n\u001b[1;37m    ^\u001b[0m\n\u001b[1;31mIndentationError\u001b[0m\u001b[1;31m:\u001b[0m expected an indented block\n"
     ]
    }
   ],
   "source": [
    "    # Epoch \n",
    "    Model.train()\n",
    "    for epoch in range(epoch_num):\n",
    "        print (\"epoch: \", epoch)\n",
    "        \n",
    "        epoch_train_loss = []\n",
    "        \n",
    "        for data in train_loader:\n",
    "            train_X, train_Y = data['X'], data['Y']\n",
    "            \n",
    "            print (\"train_X: \", train_X)\n",
    "            print (\"train_Y: \", train_Y)\n",
    "            train_pred = Model(train_X)\n",
    "            \n",
    "            loss_train = criterion(train_pred, train_Y)\n",
    "            loss_train.backward()\n",
    "            optimizer.step()\n",
    "            optimizer.zero_grad()\n",
    "            print (\"Loss: \", loss_train)\n",
    "            \n",
    "\n",
    "    # pred_tr = Model(TRAIN)\n",
    "    # loss_tr = criterion(pred_tr, label)\n",
    "    \n",
    "    # TEST \n",
    "        # TEST Dataloader generation \n",
    "    Model.eval()\n",
    "    for val_ind, valid in enumerate(valid_set):\n",
    "        # print ('len vald: ', len(valid_set))\n",
    "        valid_ds = TensorDataset(all_X_training_data[valid], all_y_training_data[valid])\n",
    "        valid_dl = DataLoader(valid_ds, batch_size = batch_num, shuffle = True)\n",
    "        \n",
    "        for valid_x, valid_y in valid_dl:\n",
    "            \n",
    "            val_pred = Model(valid_x)\n",
    "            \n",
    "            criterion(val_pred, valid_y)\n",
    "            \n",
    "            \n",
    "        path_ind = train_valid_path[(train_ind, val_ind)]\n",
    "        # print (train_ind, val_ind)\n",
    "        # print (\"path_ind: \", path_ind)    \n",
    "        # total_loss[path_ind] += loss_val\n",
    "        \n",
    "for i in range(len(total_loss)):\n",
    "    total_loss[i] /= n_test\n",
    "\n",
    "\n",
    "\n",
    "# print (\"\\n\")\n",
    "# print (\"train shape: \", train.shape, \"valid shape: \", valid.shape)\n",
    "# train_shape_ls.append(train.shape)\n",
    "# valid_shape_ls.append(valid.shape)"
   ]
  },
  {
   "cell_type": "code",
   "execution_count": null,
   "metadata": {},
   "outputs": [],
   "source": []
  },
  {
   "cell_type": "code",
   "execution_count": null,
   "metadata": {},
   "outputs": [
    {
     "ename": "NameError",
     "evalue": "name 'train' is not defined",
     "output_type": "error",
     "traceback": [
      "\u001b[1;31m---------------------------------------------------------------------------\u001b[0m",
      "\u001b[1;31mNameError\u001b[0m                                 Traceback (most recent call last)",
      "\u001b[1;32m~\\AppData\\Local\\Temp/ipykernel_2236/973257664.py\u001b[0m in \u001b[0;36m<module>\u001b[1;34m\u001b[0m\n\u001b[1;32m----> 1\u001b[1;33m \u001b[0mtrain\u001b[0m\u001b[1;33m\u001b[0m\u001b[1;33m\u001b[0m\u001b[0m\n\u001b[0m",
      "\u001b[1;31mNameError\u001b[0m: name 'train' is not defined"
     ]
    }
   ],
   "source": [
    "train"
   ]
  },
  {
   "cell_type": "code",
   "execution_count": null,
   "metadata": {},
   "outputs": [
    {
     "data": {
      "text/plain": [
       "(5088, 66, 16, 1)"
      ]
     },
     "execution_count": 410,
     "metadata": {},
     "output_type": "execute_result"
    }
   ],
   "source": [
    "X[train].shape"
   ]
  },
  {
   "cell_type": "code",
   "execution_count": null,
   "metadata": {},
   "outputs": [
    {
     "data": {
      "text/plain": [
       "(5088,)"
      ]
     },
     "execution_count": 400,
     "metadata": {},
     "output_type": "execute_result"
    }
   ],
   "source": [
    "train.shape\n"
   ]
  },
  {
   "cell_type": "code",
   "execution_count": null,
   "metadata": {},
   "outputs": [
    {
     "data": {
      "text/plain": [
       "(0, 0)"
      ]
     },
     "execution_count": 357,
     "metadata": {},
     "output_type": "execute_result"
    }
   ],
   "source": [
    "train_ind, val_ind"
   ]
  },
  {
   "cell_type": "code",
   "execution_count": null,
   "metadata": {},
   "outputs": [
    {
     "data": {
      "text/plain": [
       "0"
      ]
     },
     "execution_count": 358,
     "metadata": {},
     "output_type": "execute_result"
    }
   ],
   "source": [
    "train_valid_path[train_ind, val_ind]"
   ]
  },
  {
   "cell_type": "code",
   "execution_count": null,
   "metadata": {},
   "outputs": [],
   "source": []
  },
  {
   "cell_type": "code",
   "execution_count": null,
   "metadata": {},
   "outputs": [],
   "source": []
  },
  {
   "cell_type": "code",
   "execution_count": null,
   "metadata": {},
   "outputs": [],
   "source": []
  },
  {
   "cell_type": "code",
   "execution_count": null,
   "metadata": {},
   "outputs": [],
   "source": []
  },
  {
   "cell_type": "code",
   "execution_count": null,
   "metadata": {},
   "outputs": [],
   "source": []
  },
  {
   "cell_type": "code",
   "execution_count": null,
   "metadata": {},
   "outputs": [],
   "source": []
  },
  {
   "cell_type": "code",
   "execution_count": null,
   "metadata": {},
   "outputs": [],
   "source": []
  },
  {
   "cell_type": "code",
   "execution_count": null,
   "metadata": {},
   "outputs": [],
   "source": []
  },
  {
   "cell_type": "code",
   "execution_count": null,
   "metadata": {},
   "outputs": [
    {
     "data": {
      "text/plain": [
       "[1, 2, 3, 4, 5, 6, 7, 8, 9]"
      ]
     },
     "execution_count": 55,
     "metadata": {},
     "output_type": "execute_result"
    }
   ],
   "source": [
    "# Train - Test -Path 로 이어지는 dictionary 만들기 \n",
    "\n",
    "path_ind = 0\n",
    "\n",
    "train_test_path = {\n",
    "    [i] for i in range(model_num)\n",
    "}\n",
    "\n",
    "train_ls = total_path_train[path_ind]\n",
    "for train_ind in train_ls: \n",
    "    train_test_path[]\n",
    "    \n"
   ]
  },
  {
   "cell_type": "code",
   "execution_count": null,
   "metadata": {},
   "outputs": [],
   "source": []
  },
  {
   "cell_type": "markdown",
   "metadata": {},
   "source": [
    "# X, Y generation "
   ]
  },
  {
   "cell_type": "code",
   "execution_count": null,
   "metadata": {},
   "outputs": [],
   "source": [
    "\n",
    "def generate_xy_seq(df: pd.DataFrame, x_seq = 66, y_seq = 22):\n",
    "    \"\"\"\n",
    "    Generate samples from\n",
    "    :param df:\n",
    "    :param x_seq:\n",
    "    :param y_seq:\n",
    "    :param scaler:\n",
    "    :return:\n",
    "    # x: (epoch_size, input_length, num_nodes, input_dim)\n",
    "    # y: (epoch_size, output_length, num_nodes, output_dim)\n",
    "    \"\"\"\n",
    "    num_samples, num_nodes = df.shape\n",
    "    dates_arr = np.array(df.index)\n",
    "    data = np.expand_dims(df.values, axis = -1) # df -> array [N, F, 1]\n",
    "\n",
    "    x_offsets = np.arange(-x_seq+1, 1)  \n",
    "    y_offsets = np.arange(1, y_seq+1)\n",
    "\n",
    "    # feature_list = [data]\n",
    "\n",
    "    x, y = [], []\n",
    "    x_date, y_date = [],[]\n",
    "\n",
    "    min_t = abs(min(x_offsets))\n",
    "    max_t = abs(num_samples - abs(max(y_offsets)))\n",
    "\n",
    "    for t in range(min_t, max_t):\n",
    "        # value seperation\n",
    "        x.append(data[t+x_offsets, ...])\n",
    "        y.append(data[t+y_offsets, ...])\n",
    "        # date seperation\n",
    "        x_date.append(dates_arr[t+x_offsets])\n",
    "        y_date.append(dates_arr[t+y_offsets])\n",
    "        \n",
    "    x = np.stack(x, axis = 0)\n",
    "    y = np.stack(y, axis = 0)\n",
    "\n",
    "    x_date = np.stack(x_date, axis = 0)\n",
    "    y_date = np.stack(y_date, axis = 0)\n",
    "\n",
    "    return x, y, x_date, y_date"
   ]
  },
  {
   "cell_type": "code",
   "execution_count": null,
   "metadata": {},
   "outputs": [],
   "source": [
    "x, y, x_date, y_date = generate_xy_seq(df)"
   ]
  },
  {
   "cell_type": "code",
   "execution_count": null,
   "metadata": {},
   "outputs": [
    {
     "data": {
      "text/plain": [
       "(6298, 66, 16, 1)"
      ]
     },
     "execution_count": 22,
     "metadata": {},
     "output_type": "execute_result"
    }
   ],
   "source": [
    "x.shape"
   ]
  },
  {
   "cell_type": "code",
   "execution_count": null,
   "metadata": {},
   "outputs": [
    {
     "data": {
      "text/plain": [
       "(6298, 66)"
      ]
     },
     "execution_count": 23,
     "metadata": {},
     "output_type": "execute_result"
    }
   ],
   "source": [
    "x_date.shape"
   ]
  },
  {
   "cell_type": "markdown",
   "metadata": {},
   "source": [
    "# CPCV\n",
    "- 6C2\n",
    "- purging\n",
    "- embargo "
   ]
  },
  {
   "cell_type": "code",
   "execution_count": null,
   "metadata": {},
   "outputs": [],
   "source": [
    "def initialize(asset_prices):\n",
    "    '''\n",
    "    필요한 값들 생성\n",
    "\n",
    "    :param asset_prices: (pd.DataFrame) Asset prices\n",
    "    '''\n",
    "    asset_name       = asset_prices.columns\n",
    "    number_of_assets = asset_name.size\n",
    "    time             = asset_prices.index\n",
    "    length_of_time   = time.size\n",
    "    first_weights    = np.ones(number_of_assets) / number_of_assets \n",
    "    all_weights      = np.zeros((length_of_time + 1, number_of_assets))\n",
    "\n",
    "    return asset_name, number_of_assets, time, length_of_time, first_weights, all_weights\n",
    "\n",
    "\n",
    "def calculate_return(asset_prices, resample_by=None):\n",
    "    \"\"\"\n",
    "    수익률 계산 , 기간 resample 가능하게 만들기\n",
    "\n",
    "    :param asset_prices: (pd.DataFrame) Asset prices\n",
    "    :param resample_by: (str) Period to resample data, None for no resampling\n",
    "    :return: (pd.DataFrame) Returns per asset\n",
    "    \"\"\"\n",
    "    if resample_by:\n",
    "        asset_prices = asset_prices.resample(resample_by).last()\n",
    "    asset_returns = asset_prices.pct_change().fillna(0)\n",
    "    return asset_returns"
   ]
  },
  {
   "cell_type": "markdown",
   "metadata": {},
   "source": [
    "# 데이터분리 "
   ]
  },
  {
   "cell_type": "code",
   "execution_count": null,
   "metadata": {},
   "outputs": [],
   "source": [
    "a = []\n",
    "# for i in range(10):\n",
    "a.append(list(range(1,10)))\n",
    "a.append(list(range(45,85)))"
   ]
  },
  {
   "cell_type": "code",
   "execution_count": null,
   "metadata": {},
   "outputs": [
    {
     "data": {
      "text/plain": [
       "[array([1, 2, 3, 4, 5, 6, 7, 8, 9]),\n",
       " array([45, 46, 47, 48, 49, 50, 51, 52, 53, 54, 55, 56, 57, 58, 59, 60, 61,\n",
       "        62, 63, 64, 65, 66, 67, 68, 69, 70, 71, 72, 73, 74, 75, 76, 77, 78,\n",
       "        79, 80, 81, 82, 83, 84])]"
      ]
     },
     "execution_count": 71,
     "metadata": {},
     "output_type": "execute_result"
    }
   ],
   "source": [
    "[np.array(x) for x in a]"
   ]
  },
  {
   "cell_type": "code",
   "execution_count": null,
   "metadata": {},
   "outputs": [],
   "source": [
    "from itertools import combinations"
   ]
  },
  {
   "cell_type": "markdown",
   "metadata": {},
   "source": [
    "# Splitting"
   ]
  },
  {
   "cell_type": "code",
   "execution_count": null,
   "metadata": {},
   "outputs": [
    {
     "name": "stdout",
     "output_type": "stream",
     "text": [
      "i: 2\n",
      "current test_splits:  [[0, 1060], [2120, 3180]]\n",
      "[0] [2]\n",
      "\n",
      "\n",
      "train shape:  (4090,) valid shape:  (2120,)\n"
     ]
    }
   ],
   "source": [
    "i +=1\n",
    "print ('i:', i)\n",
    "train, valid = next(gen)\n",
    "print (\"\\n\")\n",
    "print (\"train shape: \", train.shape, \"valid shape: \", valid.shape)\n",
    "train_shape_ls.append(train.shape)\n",
    "valid_shape_ls.append(valid.shape)"
   ]
  },
  {
   "cell_type": "code",
   "execution_count": null,
   "metadata": {},
   "outputs": [
    {
     "name": "stdout",
     "output_type": "stream",
     "text": [
      "2120\n"
     ]
    }
   ],
   "source": [
    "print ((1060-0)+(6360 - 5300))"
   ]
  },
  {
   "cell_type": "code",
   "execution_count": null,
   "metadata": {},
   "outputs": [
    {
     "data": {
      "text/plain": [
       "[(4165,), (4090,)]"
      ]
     },
     "execution_count": 24,
     "metadata": {},
     "output_type": "execute_result"
    }
   ],
   "source": [
    "train_shape_ls"
   ]
  },
  {
   "cell_type": "code",
   "execution_count": null,
   "metadata": {},
   "outputs": [
    {
     "data": {
      "text/plain": [
       "[(2120,), (2120,)]"
      ]
     },
     "execution_count": 25,
     "metadata": {},
     "output_type": "execute_result"
    }
   ],
   "source": [
    "valid_shape_ls"
   ]
  },
  {
   "cell_type": "code",
   "execution_count": null,
   "metadata": {},
   "outputs": [],
   "source": [
    "fold_dict = {}\n",
    "\n",
    "for key, value in enumerate(fold_set):\n",
    "    fold_dict[key] = value"
   ]
  },
  {
   "cell_type": "code",
   "execution_count": null,
   "metadata": {},
   "outputs": [
    {
     "data": {
      "text/plain": [
       "{0: (0, 852),\n",
       " 1: (852, 1704),\n",
       " 2: (1704, 2555),\n",
       " 3: (2555, 3406),\n",
       " 4: (3406, 4257),\n",
       " 5: (4257, 5108)}"
      ]
     },
     "execution_count": 27,
     "metadata": {},
     "output_type": "execute_result"
    }
   ],
   "source": [
    "fold_dict"
   ]
  },
  {
   "cell_type": "code",
   "execution_count": null,
   "metadata": {},
   "outputs": [
    {
     "ename": "NameError",
     "evalue": "name 'test_splits' is not defined",
     "output_type": "error",
     "traceback": [
      "\u001b[1;31m---------------------------------------------------------------------------\u001b[0m",
      "\u001b[1;31mNameError\u001b[0m                                 Traceback (most recent call last)",
      "\u001b[1;32m~\\AppData\\Local\\Temp\\ipykernel_32372\\1601335919.py\u001b[0m in \u001b[0;36m<module>\u001b[1;34m\u001b[0m\n\u001b[1;32m----> 1\u001b[1;33m \u001b[0mtest_splits\u001b[0m\u001b[1;33m\u001b[0m\u001b[1;33m\u001b[0m\u001b[0m\n\u001b[0m",
      "\u001b[1;31mNameError\u001b[0m: name 'test_splits' is not defined"
     ]
    }
   ],
   "source": [
    "test_splits"
   ]
  },
  {
   "cell_type": "code",
   "execution_count": null,
   "metadata": {},
   "outputs": [],
   "source": [
    "combinatorial_test_ranges = cv_gen_purged._generate_combinatorial_test_ranges(fold_dict)"
   ]
  },
  {
   "cell_type": "code",
   "execution_count": null,
   "metadata": {},
   "outputs": [
    {
     "data": {
      "text/plain": [
       "[[(0, 852), (852, 1704)],\n",
       " [(0, 852), (1704, 2555)],\n",
       " [(0, 852), (2555, 3406)],\n",
       " [(0, 852), (3406, 4257)],\n",
       " [(0, 852), (4257, 5108)],\n",
       " [(852, 1704), (1704, 2555)],\n",
       " [(852, 1704), (2555, 3406)],\n",
       " [(852, 1704), (3406, 4257)],\n",
       " [(852, 1704), (4257, 5108)],\n",
       " [(1704, 2555), (2555, 3406)],\n",
       " [(1704, 2555), (3406, 4257)],\n",
       " [(1704, 2555), (4257, 5108)],\n",
       " [(2555, 3406), (3406, 4257)],\n",
       " [(2555, 3406), (4257, 5108)],\n",
       " [(3406, 4257), (4257, 5108)]]"
      ]
     },
     "execution_count": 31,
     "metadata": {},
     "output_type": "execute_result"
    }
   ],
   "source": [
    "combinatorial_test_ranges"
   ]
  },
  {
   "cell_type": "code",
   "execution_count": null,
   "metadata": {},
   "outputs": [
    {
     "data": {
      "text/plain": [
       "15"
      ]
     },
     "execution_count": 25,
     "metadata": {},
     "output_type": "execute_result"
    }
   ],
   "source": [
    "len(combinatorial_test_ranges)"
   ]
  },
  {
   "cell_type": "code",
   "execution_count": null,
   "metadata": {},
   "outputs": [
    {
     "data": {
      "text/plain": [
       "'1997-06-05'"
      ]
     },
     "execution_count": 26,
     "metadata": {},
     "output_type": "execute_result"
    }
   ],
   "source": [
    "sample_info_sets[0]"
   ]
  },
  {
   "cell_type": "code",
   "execution_count": null,
   "metadata": {},
   "outputs": [
    {
     "data": {
      "text/plain": [
       "date\n",
       "1997-05-20    1997-06-05\n",
       "1997-05-21    1997-06-06\n",
       "1997-05-22    1997-06-09\n",
       "1997-05-23    1997-06-10\n",
       "1997-05-26    1997-06-11\n",
       "                 ...    \n",
       "2021-09-28    2021-10-14\n",
       "2021-09-29    2021-10-15\n",
       "2021-09-30    2021-10-18\n",
       "2021-10-01    2021-10-19\n",
       "2021-10-04    2021-10-20\n",
       "Name: date, Length: 6360, dtype: object"
      ]
     },
     "execution_count": 293,
     "metadata": {},
     "output_type": "execute_result"
    }
   ],
   "source": [
    "sample_info_sets"
   ]
  },
  {
   "cell_type": "code",
   "execution_count": null,
   "metadata": {},
   "outputs": [],
   "source": []
  }
 ],
 "metadata": {
  "interpreter": {
   "hash": "26b462196a458278e1b93f4dafd0c6a4f17b941fc39fbc23177d70dd3e3b7653"
  },
  "kernelspec": {
   "display_name": "Python 3.7.11 ('tft')",
   "language": "python",
   "name": "python3"
  },
  "language_info": {
   "codemirror_mode": {
    "name": "ipython",
    "version": 3
   },
   "file_extension": ".py",
   "mimetype": "text/x-python",
   "name": "python",
   "nbconvert_exporter": "python",
   "pygments_lexer": "ipython3",
   "version": "3.8.12"
  },
  "orig_nbformat": 4
 },
 "nbformat": 4,
 "nbformat_minor": 2
}
