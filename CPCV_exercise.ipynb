{
 "cells": [
  {
   "cell_type": "code",
   "execution_count": 1,
   "metadata": {},
   "outputs": [],
   "source": [
    "\n",
    "import pandas as pd \n",
    "import numpy as np \n",
    "\n",
    "from matplotlib import pyplot as plt\n",
    "\n",
    "from CV import CPCV as CPCV\n",
    "\n",
    "from CV.util import StandardScaler, generate_xy_seq\n",
    "\n",
    "from itertools import combinations"
   ]
  },
  {
   "cell_type": "markdown",
   "metadata": {},
   "source": [
    "# Order \n",
    "1. X, Y generation \n",
    "2. CPCV baseline \n",
    "   어차피 여기서 뒤에서 개수만큼 잘라주는 거면 데이터 포인트를 자르는 것과 다를바 없음\n",
    "3. Path return function\n",
    "   \n"
   ]
  },
  {
   "cell_type": "code",
   "execution_count": 2,
   "metadata": {},
   "outputs": [],
   "source": [
    "import pandas as pd\n",
    "import numpy as np "
   ]
  },
  {
   "cell_type": "code",
   "execution_count": 3,
   "metadata": {},
   "outputs": [],
   "source": [
    "df = pd.read_csv(\"./data/data_input_demo.csv\", index_col = [0])\n",
    "df = df.set_index(['date'])[['13ty_index', 'interty_index', 'lty_index', 'mbs_index',\\\n",
    "       '13cy_index', 'intercy_index', 'lcy_index', 'ty_index', 'cy_index','agg_index']]\n",
    "df.index = pd.to_datetime(df.index, format = '%Y-%m-%d')"
   ]
  },
  {
   "cell_type": "code",
   "execution_count": 4,
   "metadata": {},
   "outputs": [
    {
     "data": {
      "text/html": [
       "<div>\n",
       "<style scoped>\n",
       "    .dataframe tbody tr th:only-of-type {\n",
       "        vertical-align: middle;\n",
       "    }\n",
       "\n",
       "    .dataframe tbody tr th {\n",
       "        vertical-align: top;\n",
       "    }\n",
       "\n",
       "    .dataframe thead th {\n",
       "        text-align: right;\n",
       "    }\n",
       "</style>\n",
       "<table border=\"1\" class=\"dataframe\">\n",
       "  <thead>\n",
       "    <tr style=\"text-align: right;\">\n",
       "      <th></th>\n",
       "      <th>13ty_index</th>\n",
       "      <th>interty_index</th>\n",
       "      <th>lty_index</th>\n",
       "      <th>mbs_index</th>\n",
       "      <th>13cy_index</th>\n",
       "      <th>intercy_index</th>\n",
       "      <th>lcy_index</th>\n",
       "      <th>ty_index</th>\n",
       "      <th>cy_index</th>\n",
       "      <th>agg_index</th>\n",
       "    </tr>\n",
       "    <tr>\n",
       "      <th>date</th>\n",
       "      <th></th>\n",
       "      <th></th>\n",
       "      <th></th>\n",
       "      <th></th>\n",
       "      <th></th>\n",
       "      <th></th>\n",
       "      <th></th>\n",
       "      <th></th>\n",
       "      <th></th>\n",
       "      <th></th>\n",
       "    </tr>\n",
       "  </thead>\n",
       "  <tbody>\n",
       "    <tr>\n",
       "      <th>1997-05-19</th>\n",
       "      <td>133.46</td>\n",
       "      <td>784.22</td>\n",
       "      <td>840.64</td>\n",
       "      <td>751.37</td>\n",
       "      <td>668.10</td>\n",
       "      <td>893.58</td>\n",
       "      <td>912.47</td>\n",
       "      <td>824.23</td>\n",
       "      <td>861.00</td>\n",
       "      <td>715.66</td>\n",
       "    </tr>\n",
       "    <tr>\n",
       "      <th>1997-05-20</th>\n",
       "      <td>133.58</td>\n",
       "      <td>785.01</td>\n",
       "      <td>840.34</td>\n",
       "      <td>751.82</td>\n",
       "      <td>668.74</td>\n",
       "      <td>894.56</td>\n",
       "      <td>912.29</td>\n",
       "      <td>824.78</td>\n",
       "      <td>861.51</td>\n",
       "      <td>716.09</td>\n",
       "    </tr>\n",
       "    <tr>\n",
       "      <th>1997-05-21</th>\n",
       "      <td>133.59</td>\n",
       "      <td>784.63</td>\n",
       "      <td>836.47</td>\n",
       "      <td>751.97</td>\n",
       "      <td>668.77</td>\n",
       "      <td>893.58</td>\n",
       "      <td>908.76</td>\n",
       "      <td>823.54</td>\n",
       "      <td>859.71</td>\n",
       "      <td>715.31</td>\n",
       "    </tr>\n",
       "    <tr>\n",
       "      <th>1997-05-22</th>\n",
       "      <td>133.58</td>\n",
       "      <td>784.33</td>\n",
       "      <td>834.66</td>\n",
       "      <td>751.97</td>\n",
       "      <td>668.71</td>\n",
       "      <td>892.96</td>\n",
       "      <td>906.86</td>\n",
       "      <td>822.86</td>\n",
       "      <td>858.69</td>\n",
       "      <td>714.88</td>\n",
       "    </tr>\n",
       "    <tr>\n",
       "      <th>1997-05-23</th>\n",
       "      <td>133.58</td>\n",
       "      <td>784.70</td>\n",
       "      <td>835.59</td>\n",
       "      <td>752.27</td>\n",
       "      <td>668.71</td>\n",
       "      <td>893.58</td>\n",
       "      <td>907.77</td>\n",
       "      <td>823.37</td>\n",
       "      <td>859.37</td>\n",
       "      <td>715.31</td>\n",
       "    </tr>\n",
       "  </tbody>\n",
       "</table>\n",
       "</div>"
      ],
      "text/plain": [
       "            13ty_index  interty_index  lty_index  mbs_index  13cy_index  \\\n",
       "date                                                                      \n",
       "1997-05-19      133.46         784.22     840.64     751.37      668.10   \n",
       "1997-05-20      133.58         785.01     840.34     751.82      668.74   \n",
       "1997-05-21      133.59         784.63     836.47     751.97      668.77   \n",
       "1997-05-22      133.58         784.33     834.66     751.97      668.71   \n",
       "1997-05-23      133.58         784.70     835.59     752.27      668.71   \n",
       "\n",
       "            intercy_index  lcy_index  ty_index  cy_index  agg_index  \n",
       "date                                                                 \n",
       "1997-05-19         893.58     912.47    824.23    861.00     715.66  \n",
       "1997-05-20         894.56     912.29    824.78    861.51     716.09  \n",
       "1997-05-21         893.58     908.76    823.54    859.71     715.31  \n",
       "1997-05-22         892.96     906.86    822.86    858.69     714.88  \n",
       "1997-05-23         893.58     907.77    823.37    859.37     715.31  "
      ]
     },
     "execution_count": 4,
     "metadata": {},
     "output_type": "execute_result"
    }
   ],
   "source": [
    "df.head()"
   ]
  },
  {
   "cell_type": "markdown",
   "metadata": {},
   "source": [
    "## X, Y generation "
   ]
  },
  {
   "cell_type": "code",
   "execution_count": 5,
   "metadata": {},
   "outputs": [],
   "source": [
    "past_seq = 66\n",
    "future_seq = 22\n",
    "num_assets = df.shape[1]\n",
    "X, Y, X_date, Y_date = generate_xy_seq(df, x_seq = past_seq, y_seq = future_seq)"
   ]
  },
  {
   "cell_type": "code",
   "execution_count": 6,
   "metadata": {},
   "outputs": [
    {
     "data": {
      "text/plain": [
       "(6298, 66, 10)"
      ]
     },
     "execution_count": 6,
     "metadata": {},
     "output_type": "execute_result"
    }
   ],
   "source": [
    "X.shape"
   ]
  },
  {
   "cell_type": "code",
   "execution_count": 7,
   "metadata": {},
   "outputs": [
    {
     "data": {
      "text/plain": [
       "(6298, 22, 10)"
      ]
     },
     "execution_count": 7,
     "metadata": {},
     "output_type": "execute_result"
    }
   ],
   "source": [
    "Y.shape"
   ]
  },
  {
   "cell_type": "code",
   "execution_count": 8,
   "metadata": {},
   "outputs": [
    {
     "data": {
      "text/plain": [
       "(6298, 66, 10)"
      ]
     },
     "execution_count": 8,
     "metadata": {},
     "output_type": "execute_result"
    }
   ],
   "source": [
    "X.shape"
   ]
  },
  {
   "cell_type": "code",
   "execution_count": 9,
   "metadata": {},
   "outputs": [
    {
     "data": {
      "text/plain": [
       "array([['1997-05-19T00:00:00.000000000', '1997-05-20T00:00:00.000000000',\n",
       "        '1997-05-21T00:00:00.000000000', ...,\n",
       "        '1997-08-14T00:00:00.000000000', '1997-08-15T00:00:00.000000000',\n",
       "        '1997-08-18T00:00:00.000000000'],\n",
       "       ['1997-05-20T00:00:00.000000000', '1997-05-21T00:00:00.000000000',\n",
       "        '1997-05-22T00:00:00.000000000', ...,\n",
       "        '1997-08-15T00:00:00.000000000', '1997-08-18T00:00:00.000000000',\n",
       "        '1997-08-19T00:00:00.000000000'],\n",
       "       ['1997-05-21T00:00:00.000000000', '1997-05-22T00:00:00.000000000',\n",
       "        '1997-05-23T00:00:00.000000000', ...,\n",
       "        '1997-08-18T00:00:00.000000000', '1997-08-19T00:00:00.000000000',\n",
       "        '1997-08-20T00:00:00.000000000'],\n",
       "       ...,\n",
       "       ['2021-07-05T00:00:00.000000000', '2021-07-06T00:00:00.000000000',\n",
       "        '2021-07-07T00:00:00.000000000', ...,\n",
       "        '2021-09-30T00:00:00.000000000', '2021-10-01T00:00:00.000000000',\n",
       "        '2021-10-04T00:00:00.000000000'],\n",
       "       ['2021-07-06T00:00:00.000000000', '2021-07-07T00:00:00.000000000',\n",
       "        '2021-07-08T00:00:00.000000000', ...,\n",
       "        '2021-10-01T00:00:00.000000000', '2021-10-04T00:00:00.000000000',\n",
       "        '2021-10-05T00:00:00.000000000'],\n",
       "       ['2021-07-07T00:00:00.000000000', '2021-07-08T00:00:00.000000000',\n",
       "        '2021-07-09T00:00:00.000000000', ...,\n",
       "        '2021-10-04T00:00:00.000000000', '2021-10-05T00:00:00.000000000',\n",
       "        '2021-10-06T00:00:00.000000000']], dtype='datetime64[ns]')"
      ]
     },
     "execution_count": 9,
     "metadata": {},
     "output_type": "execute_result"
    }
   ],
   "source": [
    "X_date"
   ]
  },
  {
   "cell_type": "code",
   "execution_count": 10,
   "metadata": {},
   "outputs": [
    {
     "data": {
      "text/plain": [
       "array([['1997-08-19T00:00:00.000000000', '1997-08-20T00:00:00.000000000',\n",
       "        '1997-08-21T00:00:00.000000000', ...,\n",
       "        '1997-09-15T00:00:00.000000000', '1997-09-16T00:00:00.000000000',\n",
       "        '1997-09-17T00:00:00.000000000'],\n",
       "       ['1997-08-20T00:00:00.000000000', '1997-08-21T00:00:00.000000000',\n",
       "        '1997-08-22T00:00:00.000000000', ...,\n",
       "        '1997-09-16T00:00:00.000000000', '1997-09-17T00:00:00.000000000',\n",
       "        '1997-09-18T00:00:00.000000000'],\n",
       "       ['1997-08-21T00:00:00.000000000', '1997-08-22T00:00:00.000000000',\n",
       "        '1997-08-25T00:00:00.000000000', ...,\n",
       "        '1997-09-17T00:00:00.000000000', '1997-09-18T00:00:00.000000000',\n",
       "        '1997-09-19T00:00:00.000000000'],\n",
       "       ...,\n",
       "       ['2021-10-05T00:00:00.000000000', '2021-10-06T00:00:00.000000000',\n",
       "        '2021-10-07T00:00:00.000000000', ...,\n",
       "        '2021-11-01T00:00:00.000000000', '2021-11-02T00:00:00.000000000',\n",
       "        '2021-11-03T00:00:00.000000000'],\n",
       "       ['2021-10-06T00:00:00.000000000', '2021-10-07T00:00:00.000000000',\n",
       "        '2021-10-08T00:00:00.000000000', ...,\n",
       "        '2021-11-02T00:00:00.000000000', '2021-11-03T00:00:00.000000000',\n",
       "        '2021-11-04T00:00:00.000000000'],\n",
       "       ['2021-10-07T00:00:00.000000000', '2021-10-08T00:00:00.000000000',\n",
       "        '2021-10-11T00:00:00.000000000', ...,\n",
       "        '2021-11-03T00:00:00.000000000', '2021-11-04T00:00:00.000000000',\n",
       "        '2021-11-05T00:00:00.000000000']], dtype='datetime64[ns]')"
      ]
     },
     "execution_count": 10,
     "metadata": {},
     "output_type": "execute_result"
    }
   ],
   "source": [
    "Y_date"
   ]
  },
  {
   "cell_type": "code",
   "execution_count": 11,
   "metadata": {},
   "outputs": [],
   "source": [
    "sample_info_sets = pd.Series(index=df[:-(past_seq+future_seq-1)].index, data=df[(past_seq+future_seq-1):].index)"
   ]
  },
  {
   "cell_type": "code",
   "execution_count": 12,
   "metadata": {},
   "outputs": [
    {
     "data": {
      "text/plain": [
       "date\n",
       "1997-05-19   1997-09-17\n",
       "1997-05-20   1997-09-18\n",
       "1997-05-21   1997-09-19\n",
       "1997-05-22   1997-09-22\n",
       "1997-05-23   1997-09-23\n",
       "                ...    \n",
       "2021-07-01   2021-11-01\n",
       "2021-07-02   2021-11-02\n",
       "2021-07-05   2021-11-03\n",
       "2021-07-06   2021-11-04\n",
       "2021-07-07   2021-11-05\n",
       "Name: date, Length: 6298, dtype: datetime64[ns]"
      ]
     },
     "execution_count": 12,
     "metadata": {},
     "output_type": "execute_result"
    }
   ],
   "source": [
    "sample_info_sets"
   ]
  },
  {
   "cell_type": "markdown",
   "metadata": {},
   "source": [
    "# CPCV with Training Process"
   ]
  },
  {
   "cell_type": "code",
   "execution_count": 13,
   "metadata": {},
   "outputs": [],
   "source": [
    "\n",
    "from CV.dataformatter import DataLoaderSet\n",
    "import torch \n",
    "from torch import nn "
   ]
  },
  {
   "cell_type": "code",
   "execution_count": 14,
   "metadata": {},
   "outputs": [
    {
     "data": {
      "text/plain": [
       "(6298, 66, 10)"
      ]
     },
     "execution_count": 14,
     "metadata": {},
     "output_type": "execute_result"
    }
   ],
   "source": [
    "X.shape"
   ]
  },
  {
   "cell_type": "code",
   "execution_count": 15,
   "metadata": {},
   "outputs": [
    {
     "data": {
      "text/plain": [
       "(6298, 22, 10)"
      ]
     },
     "execution_count": 15,
     "metadata": {},
     "output_type": "execute_result"
    }
   ],
   "source": [
    "Y.shape"
   ]
  },
  {
   "cell_type": "markdown",
   "metadata": {},
   "source": [
    "# Base Model "
   ]
  },
  {
   "cell_type": "code",
   "execution_count": 16,
   "metadata": {},
   "outputs": [],
   "source": [
    "class LSTM_Model(nn.Module):\n",
    "    def __init__(self, num_assets, past_seq, future_seq, num_layers, device):\n",
    "        '''\n",
    "        '''\n",
    "        super(LSTM_Model, self).__init__()\n",
    "        self.device = device\n",
    "        self.num_layers = num_layers\n",
    "        \n",
    "        self.lstm_in_dim = num_assets\n",
    "        self.lstm_out_dim = num_assets \n",
    "        \n",
    "        self.fc_in_dim = past_seq\n",
    "        self.fc_out_dim = future_seq\n",
    "\n",
    "## LSTM 정의 \n",
    "        self.lstm = nn.LSTM(self.lstm_in_dim, self.lstm_out_dim, num_layers = self.num_layers, batch_first = True)\n",
    "        self.fc = nn.Conv2d(self.fc_in_dim, self.fc_out_dim, kernel_size= (1,1))        \n",
    "        \n",
    "    def forward(self, x):\n",
    "        '''\n",
    "        x: [batch size, past sequence]\n",
    "        '''\n",
    "        batch_size = x.size(0)\n",
    "## 초기 hidden state, cell state 정의해주기 : 0으로 준다\n",
    "        hidden_init = torch.zeros(self.num_layers, batch_size, self.lstm_out_dim).to(self.device)\n",
    "        cell_init = torch.zeros(self.num_layers, batch_size, self.lstm_out_dim).to(self.device)\n",
    "        \n",
    "        output, hidden = self.lstm(x, (hidden_init, cell_init))\n",
    "        prediction = output.unsqueeze(-1)\n",
    "        \n",
    "####### 예측길이 바꿔주고 싶을 때 실행        \n",
    "        prediction = self.fc(prediction)\n",
    "        prediction = prediction.squeeze()\n",
    "        \n",
    "        return prediction         \n",
    "        "
   ]
  },
  {
   "cell_type": "code",
   "execution_count": 17,
   "metadata": {},
   "outputs": [
    {
     "name": "stdout",
     "output_type": "stream",
     "text": [
      "Use gpu\n"
     ]
    }
   ],
   "source": [
    "if torch.cuda.is_available():\n",
    "    device = torch.device(\"cuda:0\")\n",
    "    print (\"Use gpu\")\n",
    "else:\n",
    "    device = torch.device(\"cpu\")\n",
    "    print (\"Use cpu\")"
   ]
  },
  {
   "cell_type": "code",
   "execution_count": 18,
   "metadata": {},
   "outputs": [
    {
     "name": "stdout",
     "output_type": "stream",
     "text": [
      "** Model Loading **\n"
     ]
    }
   ],
   "source": [
    "# Model related hyper-parameters \n",
    "num_assets = df.shape[-1]\n",
    "num_layers = 1 \n",
    "num_epochs = 100\n",
    "\n",
    "######### Model 을 정의하는 부분 ########\n",
    "print (\"** Model Loading **\")\n",
    "Model = LSTM_Model(num_assets, past_seq, future_seq, num_layers, device)\n",
    "\n",
    "Model.to(device)\n",
    "\n",
    "criterion = nn.L1Loss() # Loss function 을 정의: MAE\n",
    "optimizer = torch.optim.Adam(Model.parameters(), lr = 0.01) # optimizer 을 설정"
   ]
  },
  {
   "cell_type": "code",
   "execution_count": 19,
   "metadata": {},
   "outputs": [],
   "source": [
    "# Training related hyper-parameters\n",
    "batch_num = 32\n",
    "epoch_num = 30"
   ]
  },
  {
   "cell_type": "markdown",
   "metadata": {},
   "source": [
    "## CPCV Loading"
   ]
  },
  {
   "cell_type": "code",
   "execution_count": 20,
   "metadata": {},
   "outputs": [],
   "source": [
    "total_split_num = 6\n",
    "val_split_num = 2\n",
    "pct_embargo = 0.01\n",
    "purge_behind = True\n",
    "\n",
    "\n",
    "folds = [i for i in range(total_split_num)]\n",
    "val_comb = list(combinations(folds, val_split_num))\n",
    "train_split_num = total_split_num - val_split_num\n",
    "path_fold_num  = train_split_num + 1 # 한 path 에 존재하는 fold 의 개수 / train_split_num + 1  = 5\n",
    "path_num = int(len(val_comb) * val_split_num / total_split_num) # 전체 path 의 개수 = path_fold_num \n",
    "\n",
    "cv_gen = CPCV.CombinatorialPurgedKFold(n_splits=total_split_num,\n",
    "                         n_valid_splits = val_split_num, \n",
    "                         samples_info_sets=sample_info_sets, \n",
    "                         pct_embargo=pct_embargo,\n",
    "                         purge_behind= purge_behind)\n",
    "\n",
    "cv_split = cv_gen.split(X,Y)"
   ]
  },
  {
   "cell_type": "code",
   "execution_count": 21,
   "metadata": {},
   "outputs": [],
   "source": [
    "loader_params = {'batch_size': 32,\n",
    "                 'shuffle':True,\n",
    "                 'device':'cuda:0'}"
   ]
  },
  {
   "cell_type": "code",
   "execution_count": 22,
   "metadata": {},
   "outputs": [
    {
     "data": {
      "text/plain": [
       "[(0, 1),\n",
       " (0, 2),\n",
       " (0, 3),\n",
       " (0, 4),\n",
       " (0, 5),\n",
       " (1, 2),\n",
       " (1, 3),\n",
       " (1, 4),\n",
       " (1, 5),\n",
       " (2, 3),\n",
       " (2, 4),\n",
       " (2, 5),\n",
       " (3, 4),\n",
       " (3, 5),\n",
       " (4, 5)]"
      ]
     },
     "execution_count": 22,
     "metadata": {},
     "output_type": "execute_result"
    }
   ],
   "source": [
    "val_comb"
   ]
  },
  {
   "cell_type": "markdown",
   "metadata": {},
   "source": [
    "# Training"
   ]
  },
  {
   "cell_type": "code",
   "execution_count": 23,
   "metadata": {},
   "outputs": [
    {
     "name": "stdout",
     "output_type": "stream",
     "text": [
      "Split Number: 0\n",
      "** Model Loading **\n",
      "DataLoader generation...\n",
      "Training...\n",
      "Validation...\n",
      "Split Number: 1\n",
      "** Model Loading **\n",
      "DataLoader generation...\n",
      "Training...\n",
      "Validation...\n",
      "Split Number: 2\n",
      "** Model Loading **\n",
      "DataLoader generation...\n",
      "Training...\n",
      "Validation...\n",
      "Split Number: 3\n",
      "** Model Loading **\n",
      "DataLoader generation...\n",
      "Training...\n",
      "Validation...\n",
      "Split Number: 4\n",
      "** Model Loading **\n",
      "DataLoader generation...\n",
      "Training...\n",
      "Validation...\n",
      "Split Number: 5\n",
      "** Model Loading **\n",
      "DataLoader generation...\n",
      "Training...\n",
      "Validation...\n",
      "Split Number: 6\n",
      "** Model Loading **\n",
      "DataLoader generation...\n",
      "Training...\n",
      "Validation...\n",
      "Split Number: 7\n",
      "** Model Loading **\n",
      "DataLoader generation...\n",
      "Training...\n",
      "Validation...\n",
      "Split Number: 8\n",
      "** Model Loading **\n",
      "DataLoader generation...\n",
      "Training...\n",
      "Validation...\n",
      "Split Number: 9\n",
      "** Model Loading **\n",
      "DataLoader generation...\n",
      "Training...\n",
      "Validation...\n",
      "Split Number: 10\n",
      "** Model Loading **\n",
      "DataLoader generation...\n",
      "Training...\n",
      "Validation...\n",
      "Split Number: 11\n",
      "** Model Loading **\n",
      "DataLoader generation...\n",
      "Training...\n",
      "Validation...\n",
      "Split Number: 12\n",
      "** Model Loading **\n",
      "DataLoader generation...\n",
      "Training...\n",
      "Validation...\n",
      "Split Number: 13\n",
      "** Model Loading **\n",
      "DataLoader generation...\n",
      "Training...\n",
      "Validation...\n",
      "Split Number: 14\n",
      "** Model Loading **\n",
      "DataLoader generation...\n",
      "Training...\n",
      "Validation...\n"
     ]
    }
   ],
   "source": [
    "\n",
    "total_loss = [0 for _ in range(path_num)]\n",
    "\n",
    "for idx, (path_ind_ls, train_ind, valid_ind_set) in enumerate(cv_split): # 결국 순서대로 -> 순서 자체가 train model number\n",
    "    \n",
    "    print ('Split Number:', idx)\n",
    "    # MODEL INIT\n",
    "    ######### Model 을 정의하는 부분 ########\n",
    "    print (\"** Model Loading **\")\n",
    "    Model = LSTM_Model(num_assets, past_seq, future_seq, num_layers, device)\n",
    "\n",
    "    Model.to(device)\n",
    "\n",
    "    criterion = nn.L1Loss() # Loss function 을 정의합니다 : MAE\n",
    "    optimizer = torch.optim.Adam(Model.parameters(), lr = 0.01) # optimizer 을 설정해 줍니다. \n",
    "    \n",
    "    # DataLoader \n",
    "    print (\"DataLoader generation...\")\n",
    "    LoaderGenerator = DataLoaderSet(X, Y, X_date, Y_date, path_ind_ls, train_ind, valid_ind_set, loader_params)\n",
    "    loader_set = LoaderGenerator.dataloader\n",
    "    \n",
    "    # scaler2 for prediction during training\n",
    "    mean2 = torch.from_numpy(LoaderGenerator.scaler.mean).to(device)\n",
    "    std2 = torch.from_numpy(LoaderGenerator.scaler.std).to(device)\n",
    "\n",
    "    scaler2 = StandardScaler(mean2, std2)\n",
    "    # TRAIN     \n",
    "    # Epoch \n",
    "    print (\"Training...\")\n",
    "    for epoch in range(epoch_num):\n",
    "        Model.train()\n",
    "        epoch_train_loss = []\n",
    "        \n",
    "        train_loader = loader_set['train_loader']\n",
    "        for train_x, train_y, dates in train_loader.get_iterator():\n",
    "            \n",
    "            train_pred = Model(train_x)\n",
    "            \n",
    "            train_pred = scaler2.inverse_transform(train_pred)\n",
    "            \n",
    "            loss_train = criterion(train_pred, train_y)\n",
    "            loss_train.backward()\n",
    "            optimizer.step()\n",
    "            optimizer.zero_grad()\n",
    "    \n",
    "    # Validation \n",
    "    print (\"Validation...\")\n",
    "    Model.eval()\n",
    "    valid_loader_set = loader_set['valid_loader']\n",
    "    \n",
    "    for path_num in list(valid_loader_set.keys()):\n",
    "        # print (\"Path num: \", path_num)\n",
    "        n_valid_loader = valid_loader_set[path_num]\n",
    "        for valid_x, valid_y, dates in n_valid_loader.get_iterator():\n",
    "            val_pred = Model(valid_x)\n",
    "            val_pred = scaler2.inverse_transform(val_pred)\n",
    "            \n",
    "            val_loss = criterion(val_pred, valid_y)\n",
    "            \n",
    "            total_loss[path_num] += val_loss\n",
    "            \n",
    "for i in range(len(total_loss)):\n",
    "    total_loss[i] /= total_split_num"
   ]
  },
  {
   "cell_type": "code",
   "execution_count": 25,
   "metadata": {},
   "outputs": [
    {
     "data": {
      "image/png": "[encoded data removed]",
      "text/plain": [
       "<Figure size 432x288 with 1 Axes>"
      ]
     },
     "metadata": {
      "needs_background": "light"
     },
     "output_type": "display_data"
    }
   ],
   "source": [
    "import seaborn as sns \n",
    "\n",
    "plt.title(\"Loss by Path\")\n",
    "plt.ylabel(\"Loss\")\n",
    "plt.xlabel(\"Path Number\")\n",
    "plt.bar([i+1 for i in range(len(total_loss))] ,[np.array(x.detach().cpu()) for x in total_loss])\n",
    "plt.show()"
   ]
  }
 ],
 "metadata": {
  "interpreter": {
   "hash": "26b462196a458278e1b93f4dafd0c6a4f17b941fc39fbc23177d70dd3e3b7653"
  },
  "kernelspec": {
   "display_name": "Python 3.7.11 ('tft')",
   "language": "python",
   "name": "python3"
  },
  "language_info": {
   "codemirror_mode": {
    "name": "ipython",
    "version": 3
   },
   "file_extension": ".py",
   "mimetype": "text/x-python",
   "name": "python",
   "nbconvert_exporter": "python",
   "pygments_lexer": "ipython3",
   "version": "3.8.12"
  },
  "orig_nbformat": 4
 },
 "nbformat": 4,
 "nbformat_minor": 2
}
